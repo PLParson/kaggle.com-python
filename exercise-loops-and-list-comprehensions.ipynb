{
 "cells": [
  {
   "cell_type": "markdown",
   "id": "06eca706",
   "metadata": {
    "papermill": {
     "duration": 0.006666,
     "end_time": "2022-12-21T16:58:52.217542",
     "exception": false,
     "start_time": "2022-12-21T16:58:52.210876",
     "status": "completed"
    },
    "tags": []
   },
   "source": [
    "**This notebook is an exercise in the [Python](https://www.kaggle.com/learn/python) course.  You can reference the tutorial at [this link](https://www.kaggle.com/colinmorris/loops-and-list-comprehensions).**\n",
    "\n",
    "---\n"
   ]
  },
  {
   "cell_type": "markdown",
   "id": "2129db6d",
   "metadata": {
    "papermill": {
     "duration": 0.005522,
     "end_time": "2022-12-21T16:58:52.228744",
     "exception": false,
     "start_time": "2022-12-21T16:58:52.223222",
     "status": "completed"
    },
    "tags": []
   },
   "source": [
    "With all you've learned, you can start writing much more interesting programs. See if you can solve the problems below.\n",
    "\n",
    "As always, run the setup code below before working on the questions."
   ]
  },
  {
   "cell_type": "code",
   "execution_count": 1,
   "id": "035072da",
   "metadata": {
    "execution": {
     "iopub.execute_input": "2022-12-21T16:58:52.242453Z",
     "iopub.status.busy": "2022-12-21T16:58:52.241812Z",
     "iopub.status.idle": "2022-12-21T16:58:52.301895Z",
     "shell.execute_reply": "2022-12-21T16:58:52.300669Z"
    },
    "papermill": {
     "duration": 0.070183,
     "end_time": "2022-12-21T16:58:52.304606",
     "exception": false,
     "start_time": "2022-12-21T16:58:52.234423",
     "status": "completed"
    },
    "tags": []
   },
   "outputs": [
    {
     "name": "stdout",
     "output_type": "stream",
     "text": [
      "Setup complete.\n"
     ]
    }
   ],
   "source": [
    "from learntools.core import binder; binder.bind(globals())\n",
    "from learntools.python.ex5 import *\n",
    "print('Setup complete.')"
   ]
  },
  {
   "cell_type": "markdown",
   "id": "4748f01a",
   "metadata": {
    "papermill": {
     "duration": 0.005358,
     "end_time": "2022-12-21T16:58:52.315814",
     "exception": false,
     "start_time": "2022-12-21T16:58:52.310456",
     "status": "completed"
    },
    "tags": []
   },
   "source": [
    "# 1.\n",
    "\n",
    "Have you ever felt debugging involved a bit of luck? The following program has a bug. Try to identify the bug and fix it."
   ]
  },
  {
   "cell_type": "code",
   "execution_count": 2,
   "id": "aed8e6d1",
   "metadata": {
    "execution": {
     "iopub.execute_input": "2022-12-21T16:58:52.329086Z",
     "iopub.status.busy": "2022-12-21T16:58:52.328504Z",
     "iopub.status.idle": "2022-12-21T16:58:52.334086Z",
     "shell.execute_reply": "2022-12-21T16:58:52.333354Z"
    },
    "papermill": {
     "duration": 0.014922,
     "end_time": "2022-12-21T16:58:52.336372",
     "exception": false,
     "start_time": "2022-12-21T16:58:52.321450",
     "status": "completed"
    },
    "tags": []
   },
   "outputs": [],
   "source": [
    "def has_lucky_number(nums):\n",
    "    \"\"\"Return whether the given list of numbers is lucky. A lucky list contains\n",
    "    at least one number divisible by 7.\n",
    "    \"\"\"\n",
    "    for num in nums:\n",
    "        if num % 7 == 0:\n",
    "            return True\n",
    "        else:\n",
    "            return False"
   ]
  },
  {
   "cell_type": "markdown",
   "id": "69a5e03d",
   "metadata": {
    "papermill": {
     "duration": 0.005054,
     "end_time": "2022-12-21T16:58:52.346813",
     "exception": false,
     "start_time": "2022-12-21T16:58:52.341759",
     "status": "completed"
    },
    "tags": []
   },
   "source": [
    "Try to identify the bug and fix it in the cell below:"
   ]
  },
  {
   "cell_type": "code",
   "execution_count": 3,
   "id": "a067877d",
   "metadata": {
    "execution": {
     "iopub.execute_input": "2022-12-21T16:58:52.359292Z",
     "iopub.status.busy": "2022-12-21T16:58:52.358893Z",
     "iopub.status.idle": "2022-12-21T16:58:52.371483Z",
     "shell.execute_reply": "2022-12-21T16:58:52.370359Z"
    },
    "papermill": {
     "duration": 0.021589,
     "end_time": "2022-12-21T16:58:52.373649",
     "exception": false,
     "start_time": "2022-12-21T16:58:52.352060",
     "status": "completed"
    },
    "tags": []
   },
   "outputs": [
    {
     "data": {
      "application/javascript": [
       "parent.postMessage({\"jupyterEvent\": \"custom.exercise_interaction\", \"data\": {\"outcomeType\": 1, \"valueTowardsCompletion\": 0.25, \"interactionType\": 1, \"questionType\": 2, \"questionId\": \"1_EarlyExitDebugging\", \"learnToolsVersion\": \"0.3.4\", \"failureMessage\": \"\", \"exceptionClass\": \"\", \"trace\": \"\"}}, \"*\")"
      ],
      "text/plain": [
       "<IPython.core.display.Javascript object>"
      ]
     },
     "metadata": {},
     "output_type": "display_data"
    },
    {
     "data": {
      "text/markdown": [
       "<span style=\"color:#33cc33\">Correct:</span> \n",
       "\n",
       "Remember that `return` causes a function to exit immediately. So our original implementation always ran for just one iteration. We can only return `False` if we've looked at every element of the list (and confirmed that none of them are lucky). Though we can return early if the answer is `True`:\n",
       "\n",
       "```python\n",
       "def has_lucky_number(nums):\n",
       "    for num in nums:\n",
       "        if num % 7 == 0:\n",
       "            return True\n",
       "    # We've exhausted the list without finding a lucky number\n",
       "    return False\n",
       "```\n",
       "\n",
       "Here's a one-line version using a list comprehension with Python's `any` function (you can read about what it does by calling `help(any)`):\n",
       "\n",
       "```python\n",
       "def has_lucky_number(nums):\n",
       "    return any([num % 7 == 0 for num in nums])\n",
       "```\n"
      ],
      "text/plain": [
       "Correct: \n",
       "\n",
       "Remember that `return` causes a function to exit immediately. So our original implementation always ran for just one iteration. We can only return `False` if we've looked at every element of the list (and confirmed that none of them are lucky). Though we can return early if the answer is `True`:\n",
       "\n",
       "```python\n",
       "def has_lucky_number(nums):\n",
       "    for num in nums:\n",
       "        if num % 7 == 0:\n",
       "            return True\n",
       "    # We've exhausted the list without finding a lucky number\n",
       "    return False\n",
       "```\n",
       "\n",
       "Here's a one-line version using a list comprehension with Python's `any` function (you can read about what it does by calling `help(any)`):\n",
       "\n",
       "```python\n",
       "def has_lucky_number(nums):\n",
       "    return any([num % 7 == 0 for num in nums])\n",
       "```"
      ]
     },
     "metadata": {},
     "output_type": "display_data"
    }
   ],
   "source": [
    "def has_lucky_number(nums):\n",
    "    \"\"\"Return whether the given list of numbers is lucky. A lucky list contains\n",
    "    at least one number divisible by 7.\n",
    "    \"\"\"\n",
    "    for num in nums:\n",
    "        if num % 7 == 0:\n",
    "            return True\n",
    "    return False\n",
    "\n",
    "# Check your answer\n",
    "q1.check()"
   ]
  },
  {
   "cell_type": "code",
   "execution_count": 4,
   "id": "2f9675b2",
   "metadata": {
    "execution": {
     "iopub.execute_input": "2022-12-21T16:58:52.387226Z",
     "iopub.status.busy": "2022-12-21T16:58:52.386660Z",
     "iopub.status.idle": "2022-12-21T16:58:52.393272Z",
     "shell.execute_reply": "2022-12-21T16:58:52.391933Z"
    },
    "papermill": {
     "duration": 0.016841,
     "end_time": "2022-12-21T16:58:52.396310",
     "exception": false,
     "start_time": "2022-12-21T16:58:52.379469",
     "status": "completed"
    },
    "tags": []
   },
   "outputs": [
    {
     "name": "stdout",
     "output_type": "stream",
     "text": [
      "Help on built-in function any in module builtins:\n",
      "\n",
      "any(iterable, /)\n",
      "    Return True if bool(x) is True for any x in the iterable.\n",
      "    \n",
      "    If the iterable is empty, return False.\n",
      "\n"
     ]
    }
   ],
   "source": [
    "help(any)\n",
    "#q1.hint()\n",
    "#q1.solution()"
   ]
  },
  {
   "cell_type": "markdown",
   "id": "f91a5c9f",
   "metadata": {
    "papermill": {
     "duration": 0.00561,
     "end_time": "2022-12-21T16:58:52.410385",
     "exception": false,
     "start_time": "2022-12-21T16:58:52.404775",
     "status": "completed"
    },
    "tags": []
   },
   "source": [
    "# 2.\n",
    "Look at the Python expression below. What do you think we'll get when we run it? When you've made your prediction, uncomment the code and run the cell to see if you were right."
   ]
  },
  {
   "cell_type": "code",
   "execution_count": 5,
   "id": "2d8e271c",
   "metadata": {
    "execution": {
     "iopub.execute_input": "2022-12-21T16:58:52.424152Z",
     "iopub.status.busy": "2022-12-21T16:58:52.423769Z",
     "iopub.status.idle": "2022-12-21T16:58:52.428997Z",
     "shell.execute_reply": "2022-12-21T16:58:52.427366Z"
    },
    "papermill": {
     "duration": 0.015454,
     "end_time": "2022-12-21T16:58:52.431682",
     "exception": false,
     "start_time": "2022-12-21T16:58:52.416228",
     "status": "completed"
    },
    "tags": []
   },
   "outputs": [],
   "source": [
    "# [1, 2, 3, 4] > 2"
   ]
  },
  {
   "cell_type": "markdown",
   "id": "1856dfb5",
   "metadata": {
    "papermill": {
     "duration": 0.005728,
     "end_time": "2022-12-21T16:58:52.443415",
     "exception": false,
     "start_time": "2022-12-21T16:58:52.437687",
     "status": "completed"
    },
    "tags": []
   },
   "source": [
    "R and Python have some libraries (like numpy and pandas) compare each element of the list to 2 (i.e. do an 'element-wise' comparison) and give us a list of booleans like `[False, False, True, True]`. \n",
    "\n",
    "Implement a function that reproduces this behaviour, returning a list of booleans corresponding to whether the corresponding element is greater than n."
   ]
  },
  {
   "cell_type": "code",
   "execution_count": 6,
   "id": "aa16766e",
   "metadata": {
    "execution": {
     "iopub.execute_input": "2022-12-21T16:58:52.457483Z",
     "iopub.status.busy": "2022-12-21T16:58:52.456656Z",
     "iopub.status.idle": "2022-12-21T16:58:52.467806Z",
     "shell.execute_reply": "2022-12-21T16:58:52.466833Z"
    },
    "papermill": {
     "duration": 0.020888,
     "end_time": "2022-12-21T16:58:52.470089",
     "exception": false,
     "start_time": "2022-12-21T16:58:52.449201",
     "status": "completed"
    },
    "tags": []
   },
   "outputs": [
    {
     "data": {
      "application/javascript": [
       "parent.postMessage({\"jupyterEvent\": \"custom.exercise_interaction\", \"data\": {\"outcomeType\": 1, \"valueTowardsCompletion\": 0.25, \"interactionType\": 1, \"questionType\": 2, \"questionId\": \"2_ElementWiseComparison\", \"learnToolsVersion\": \"0.3.4\", \"failureMessage\": \"\", \"exceptionClass\": \"\", \"trace\": \"\"}}, \"*\")"
      ],
      "text/plain": [
       "<IPython.core.display.Javascript object>"
      ]
     },
     "metadata": {},
     "output_type": "display_data"
    },
    {
     "data": {
      "text/markdown": [
       "<span style=\"color:#33cc33\">Correct:</span> \n",
       "\n",
       "Here's one solution:\n",
       "```python\n",
       "def elementwise_greater_than(L, thresh):\n",
       "    res = []\n",
       "    for ele in L:\n",
       "        res.append(ele > thresh)\n",
       "    return res\n",
       "```\n",
       "\n",
       "And here's the list comprehension version:\n",
       "```python\n",
       "def elementwise_greater_than(L, thresh):\n",
       "    return [ele > thresh for ele in L]\n",
       "```\n"
      ],
      "text/plain": [
       "Correct: \n",
       "\n",
       "Here's one solution:\n",
       "```python\n",
       "def elementwise_greater_than(L, thresh):\n",
       "    res = []\n",
       "    for ele in L:\n",
       "        res.append(ele > thresh)\n",
       "    return res\n",
       "```\n",
       "\n",
       "And here's the list comprehension version:\n",
       "```python\n",
       "def elementwise_greater_than(L, thresh):\n",
       "    return [ele > thresh for ele in L]\n",
       "```"
      ]
     },
     "metadata": {},
     "output_type": "display_data"
    }
   ],
   "source": [
    "def elementwise_greater_than(L, thresh):\n",
    "    \"\"\"Return a list with the same length as L, where the value at index i is \n",
    "    True if L[i] is greater than thresh, and False otherwise.\n",
    "    \n",
    "    >>> elementwise_greater_than([1, 2, 3, 4], 2)\n",
    "    [False, False, True, True]\n",
    "    \"\"\"\n",
    "    pass\n",
    "    return [element > thresh for element in L]\n",
    "\n",
    "# Check your answer\n",
    "q2.check()"
   ]
  },
  {
   "cell_type": "code",
   "execution_count": 7,
   "id": "6de511f3",
   "metadata": {
    "execution": {
     "iopub.execute_input": "2022-12-21T16:58:52.484304Z",
     "iopub.status.busy": "2022-12-21T16:58:52.483884Z",
     "iopub.status.idle": "2022-12-21T16:58:52.488435Z",
     "shell.execute_reply": "2022-12-21T16:58:52.487201Z"
    },
    "papermill": {
     "duration": 0.01452,
     "end_time": "2022-12-21T16:58:52.490722",
     "exception": false,
     "start_time": "2022-12-21T16:58:52.476202",
     "status": "completed"
    },
    "tags": []
   },
   "outputs": [],
   "source": [
    "#q2.solution()"
   ]
  },
  {
   "cell_type": "markdown",
   "id": "294365c7",
   "metadata": {
    "papermill": {
     "duration": 0.005895,
     "end_time": "2022-12-21T16:58:52.502675",
     "exception": false,
     "start_time": "2022-12-21T16:58:52.496780",
     "status": "completed"
    },
    "tags": []
   },
   "source": [
    "# 3.\n",
    "\n",
    "Complete the body of the function below according to its docstring."
   ]
  },
  {
   "cell_type": "code",
   "execution_count": 8,
   "id": "996a1bd0",
   "metadata": {
    "execution": {
     "iopub.execute_input": "2022-12-21T16:58:52.517049Z",
     "iopub.status.busy": "2022-12-21T16:58:52.516236Z",
     "iopub.status.idle": "2022-12-21T16:58:52.527154Z",
     "shell.execute_reply": "2022-12-21T16:58:52.526225Z"
    },
    "papermill": {
     "duration": 0.02069,
     "end_time": "2022-12-21T16:58:52.529417",
     "exception": false,
     "start_time": "2022-12-21T16:58:52.508727",
     "status": "completed"
    },
    "tags": []
   },
   "outputs": [
    {
     "data": {
      "application/javascript": [
       "parent.postMessage({\"jupyterEvent\": \"custom.exercise_interaction\", \"data\": {\"outcomeType\": 1, \"valueTowardsCompletion\": 0.25, \"interactionType\": 1, \"questionType\": 2, \"questionId\": \"3_BoringMenu\", \"learnToolsVersion\": \"0.3.4\", \"failureMessage\": \"\", \"exceptionClass\": \"\", \"trace\": \"\"}}, \"*\")"
      ],
      "text/plain": [
       "<IPython.core.display.Javascript object>"
      ]
     },
     "metadata": {},
     "output_type": "display_data"
    },
    {
     "data": {
      "text/markdown": [
       "<span style=\"color:#33cc33\">Correct:</span> \n",
       "\n",
       "\n",
       "\n",
       "```python\n",
       "def menu_is_boring(meals):\n",
       "    # Iterate over all indices of the list, except the last one\n",
       "    for i in range(len(meals)-1):\n",
       "        if meals[i] == meals[i+1]:\n",
       "            return True\n",
       "    return False\n",
       "```\n",
       "\n",
       "The key to our solution is the call to `range`. `range(len(meals))` would give us all the indices of `meals`. If we had used that range, the last iteration of the loop would be comparing the last element to the element after it, which is... `IndexError`! `range(len(meals)-1)` gives us all the indices except the index of the last element.\n",
       "\n",
       "But don't we need to check if `meals` is empty? Turns out that `range(0) == range(-1)` - they're both empty. So if `meals` has length 0 or 1, we just won't do any iterations of our for loop.\n"
      ],
      "text/plain": [
       "Correct: \n",
       "\n",
       "\n",
       "\n",
       "```python\n",
       "def menu_is_boring(meals):\n",
       "    # Iterate over all indices of the list, except the last one\n",
       "    for i in range(len(meals)-1):\n",
       "        if meals[i] == meals[i+1]:\n",
       "            return True\n",
       "    return False\n",
       "```\n",
       "\n",
       "The key to our solution is the call to `range`. `range(len(meals))` would give us all the indices of `meals`. If we had used that range, the last iteration of the loop would be comparing the last element to the element after it, which is... `IndexError`! `range(len(meals)-1)` gives us all the indices except the index of the last element.\n",
       "\n",
       "But don't we need to check if `meals` is empty? Turns out that `range(0) == range(-1)` - they're both empty. So if `meals` has length 0 or 1, we just won't do any iterations of our for loop."
      ]
     },
     "metadata": {},
     "output_type": "display_data"
    }
   ],
   "source": [
    "def menu_is_boring(meals):\n",
    "    \"\"\"Given a list of meals served over some period of time, return True if the\n",
    "    same meal has ever been served two days in a row, and False otherwise.\n",
    "    \"\"\"\n",
    "    pass\n",
    "    for i in range(len(meals)-1):\n",
    "        if meals[i] == meals[i+1]:\n",
    "            return True\n",
    "    return False\n",
    "\n",
    "# Check your answer\n",
    "q3.check()"
   ]
  },
  {
   "cell_type": "code",
   "execution_count": 9,
   "id": "0be8619c",
   "metadata": {
    "execution": {
     "iopub.execute_input": "2022-12-21T16:58:52.544078Z",
     "iopub.status.busy": "2022-12-21T16:58:52.543443Z",
     "iopub.status.idle": "2022-12-21T16:58:52.547937Z",
     "shell.execute_reply": "2022-12-21T16:58:52.547099Z"
    },
    "papermill": {
     "duration": 0.014492,
     "end_time": "2022-12-21T16:58:52.550176",
     "exception": false,
     "start_time": "2022-12-21T16:58:52.535684",
     "status": "completed"
    },
    "tags": []
   },
   "outputs": [],
   "source": [
    "#q3.hint()\n",
    "#q3.solution()"
   ]
  },
  {
   "cell_type": "markdown",
   "id": "261c7c44",
   "metadata": {
    "papermill": {
     "duration": 0.006106,
     "end_time": "2022-12-21T16:58:52.562628",
     "exception": false,
     "start_time": "2022-12-21T16:58:52.556522",
     "status": "completed"
    },
    "tags": []
   },
   "source": [
    "# 4. <span title=\"A bit spicy\" style=\"color: darkgreen \">🌶️</span>\n",
    "\n",
    "Next to the Blackjack table, the Python Challenge Casino has a slot machine. You can get a result from the slot machine by calling `play_slot_machine()`. The number it returns is your winnings in dollars. Usually it returns 0.  But sometimes you'll get lucky and get a big payday. Try running it below:"
   ]
  },
  {
   "cell_type": "code",
   "execution_count": 10,
   "id": "ed821e61",
   "metadata": {
    "execution": {
     "iopub.execute_input": "2022-12-21T16:58:52.578207Z",
     "iopub.status.busy": "2022-12-21T16:58:52.577661Z",
     "iopub.status.idle": "2022-12-21T16:58:52.585145Z",
     "shell.execute_reply": "2022-12-21T16:58:52.584176Z"
    },
    "papermill": {
     "duration": 0.018621,
     "end_time": "2022-12-21T16:58:52.587433",
     "exception": false,
     "start_time": "2022-12-21T16:58:52.568812",
     "status": "completed"
    },
    "tags": []
   },
   "outputs": [
    {
     "data": {
      "text/plain": [
       "5"
      ]
     },
     "execution_count": 10,
     "metadata": {},
     "output_type": "execute_result"
    }
   ],
   "source": [
    "play_slot_machine()"
   ]
  },
  {
   "cell_type": "markdown",
   "id": "9c38943d",
   "metadata": {
    "papermill": {
     "duration": 0.006278,
     "end_time": "2022-12-21T16:58:52.600319",
     "exception": false,
     "start_time": "2022-12-21T16:58:52.594041",
     "status": "completed"
    },
    "tags": []
   },
   "source": [
    "By the way, did we mention that each play costs $1? Don't worry, we'll send you the bill later.\n",
    "\n",
    "On average, how much money can you expect to gain (or lose) every time you play the machine?  The casino keeps it a secret, but you can estimate the average value of each pull using a technique called the **Monte Carlo method**. To estimate the average outcome, we simulate the scenario many times, and return the average result.\n",
    "\n",
    "Complete the following function to calculate the average value per play of the slot machine."
   ]
  },
  {
   "cell_type": "code",
   "execution_count": 11,
   "id": "8be86dd4",
   "metadata": {
    "execution": {
     "iopub.execute_input": "2022-12-21T16:58:52.615883Z",
     "iopub.status.busy": "2022-12-21T16:58:52.615048Z",
     "iopub.status.idle": "2022-12-21T16:58:52.625124Z",
     "shell.execute_reply": "2022-12-21T16:58:52.623781Z"
    },
    "papermill": {
     "duration": 0.020935,
     "end_time": "2022-12-21T16:58:52.627744",
     "exception": false,
     "start_time": "2022-12-21T16:58:52.606809",
     "status": "completed"
    },
    "tags": []
   },
   "outputs": [
    {
     "data": {
      "text/plain": [
       "0.45"
      ]
     },
     "execution_count": 11,
     "metadata": {},
     "output_type": "execute_result"
    }
   ],
   "source": [
    "def estimate_average_slot_payout(n_runs):\n",
    "    \"\"\"Run the slot machine n_runs times and return the average net profit per run.\n",
    "    Example calls (note that return value is nondeterministic!):\n",
    "    >>> estimate_average_slot_payout(1)\n",
    "    -1\n",
    "    >>> estimate_average_slot_payout(1)\n",
    "    0.5\n",
    "    \"\"\"\n",
    "    pass\n",
    "    runs = [play_slot_machine() for i in range(n_runs)]\n",
    "    return sum(runs) / n_runs\n",
    "estimate_average_slot_payout(10)"
   ]
  },
  {
   "cell_type": "markdown",
   "id": "c76fa11f",
   "metadata": {
    "papermill": {
     "duration": 0.00612,
     "end_time": "2022-12-21T16:58:52.640381",
     "exception": false,
     "start_time": "2022-12-21T16:58:52.634261",
     "status": "completed"
    },
    "tags": []
   },
   "source": [
    "When you think you know the expected value per spin, run the code cell below to view the solution and get credit for answering the question."
   ]
  },
  {
   "cell_type": "code",
   "execution_count": 12,
   "id": "b0a3a7e9",
   "metadata": {
    "execution": {
     "iopub.execute_input": "2022-12-21T16:58:52.655562Z",
     "iopub.status.busy": "2022-12-21T16:58:52.655033Z",
     "iopub.status.idle": "2022-12-21T16:58:52.665867Z",
     "shell.execute_reply": "2022-12-21T16:58:52.664936Z"
    },
    "papermill": {
     "duration": 0.024168,
     "end_time": "2022-12-21T16:58:52.670941",
     "exception": false,
     "start_time": "2022-12-21T16:58:52.646773",
     "status": "completed"
    },
    "tags": []
   },
   "outputs": [
    {
     "data": {
      "application/javascript": [
       "parent.postMessage({\"jupyterEvent\": \"custom.exercise_interaction\", \"data\": {\"interactionType\": 3, \"questionType\": 4, \"questionId\": \"4_ExpectedSlotsPayout\", \"learnToolsVersion\": \"0.3.4\", \"valueTowardsCompletion\": 0.0, \"failureMessage\": \"\", \"exceptionClass\": \"\", \"trace\": \"\", \"outcomeType\": 4}}, \"*\")"
      ],
      "text/plain": [
       "<IPython.core.display.Javascript object>"
      ]
     },
     "metadata": {},
     "output_type": "display_data"
    },
    {
     "data": {
      "text/markdown": [
       "<span style=\"color:#33cc99\">Solution:</span> \n",
       "    \n",
       "The exact expected value of one pull of the slot machine is 0.025 - i.e. a little more than 2 cents.  See?  Not every game in the Python Challenge Casino is rigged against the player!\n",
       "\n",
       "In order to get this answer, you'll need to implement the `estimate_average_slot_payout(n_runs)` function to simulate pulling the slot machine `n_runs` times.  It should return the payout averaged over those `n_runs`.\n",
       "\n",
       "Then, once the function is defined, in order to estimate the average slot payout, we need only call the function.\n",
       "\n",
       "Because of the high variance of the outcome (there are some very rare high payout results that significantly affect the average) you might need to run your function with a very high value of `n_runs` to get a stable answer close to the true expectation.  For instance, you might use a value for `n_runs` of 1000000.\n",
       "\n",
       "Here's an example for how the function could look:\n",
       "```python\n",
       "def estimate_average_slot_payout(n_runs):\n",
       "    # Play slot machine n_runs times, calculate payout of each\n",
       "    payouts = [play_slot_machine()-1 for i in range(n_runs)]\n",
       "    # Calculate the average value\n",
       "    avg_payout = sum(payouts) / n_runs\n",
       "    return avg_payout\n",
       "    \n",
       "estimate_average_slot_payout(10000000)\n",
       "\n",
       "```\n",
       "\n",
       "This should return an answer close to 0.025!\n",
       "            \n"
      ],
      "text/plain": [
       "Solution: \n",
       "    \n",
       "The exact expected value of one pull of the slot machine is 0.025 - i.e. a little more than 2 cents.  See?  Not every game in the Python Challenge Casino is rigged against the player!\n",
       "\n",
       "In order to get this answer, you'll need to implement the `estimate_average_slot_payout(n_runs)` function to simulate pulling the slot machine `n_runs` times.  It should return the payout averaged over those `n_runs`.\n",
       "\n",
       "Then, once the function is defined, in order to estimate the average slot payout, we need only call the function.\n",
       "\n",
       "Because of the high variance of the outcome (there are some very rare high payout results that significantly affect the average) you might need to run your function with a very high value of `n_runs` to get a stable answer close to the true expectation.  For instance, you might use a value for `n_runs` of 1000000.\n",
       "\n",
       "Here's an example for how the function could look:\n",
       "```python\n",
       "def estimate_average_slot_payout(n_runs):\n",
       "    # Play slot machine n_runs times, calculate payout of each\n",
       "    payouts = [play_slot_machine()-1 for i in range(n_runs)]\n",
       "    # Calculate the average value\n",
       "    avg_payout = sum(payouts) / n_runs\n",
       "    return avg_payout\n",
       "    \n",
       "estimate_average_slot_payout(10000000)\n",
       "\n",
       "```\n",
       "\n",
       "This should return an answer close to 0.025!\n",
       "            "
      ]
     },
     "metadata": {},
     "output_type": "display_data"
    }
   ],
   "source": [
    "# Check your answer (Run this code cell to receive credit!)\n",
    "q4.solution()"
   ]
  },
  {
   "cell_type": "markdown",
   "id": "bcd17f0f",
   "metadata": {
    "papermill": {
     "duration": 0.007147,
     "end_time": "2022-12-21T16:58:52.685402",
     "exception": false,
     "start_time": "2022-12-21T16:58:52.678255",
     "status": "completed"
    },
    "tags": []
   },
   "source": [
    "# Keep Going\n",
    "\n",
    "Many programmers report that dictionaries are their favorite data structure. You'll get to **[learn about them](https://www.kaggle.com/colinmorris/strings-and-dictionaries)** (as well as strings) in the next lesson."
   ]
  },
  {
   "cell_type": "markdown",
   "id": "db0ab9fc",
   "metadata": {
    "papermill": {
     "duration": 0.006512,
     "end_time": "2022-12-21T16:58:52.698849",
     "exception": false,
     "start_time": "2022-12-21T16:58:52.692337",
     "status": "completed"
    },
    "tags": []
   },
   "source": [
    "---\n",
    "\n",
    "\n",
    "\n",
    "\n",
    "*Have questions or comments? Visit the [course discussion forum](https://www.kaggle.com/learn/python/discussion) to chat with other learners.*"
   ]
  }
 ],
 "metadata": {
  "kernelspec": {
   "display_name": "Python 3",
   "language": "python",
   "name": "python3"
  },
  "language_info": {
   "codemirror_mode": {
    "name": "ipython",
    "version": 3
   },
   "file_extension": ".py",
   "mimetype": "text/x-python",
   "name": "python",
   "nbconvert_exporter": "python",
   "pygments_lexer": "ipython3",
   "version": "3.7.12"
  },
  "papermill": {
   "default_parameters": {},
   "duration": 9.973193,
   "end_time": "2022-12-21T16:58:53.629100",
   "environment_variables": {},
   "exception": null,
   "input_path": "__notebook__.ipynb",
   "output_path": "__notebook__.ipynb",
   "parameters": {},
   "start_time": "2022-12-21T16:58:43.655907",
   "version": "2.3.4"
  }
 },
 "nbformat": 4,
 "nbformat_minor": 5
}
