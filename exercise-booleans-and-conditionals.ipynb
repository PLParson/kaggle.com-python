{
 "cells": [
  {
   "cell_type": "markdown",
   "id": "9b39c059",
   "metadata": {
    "papermill": {
     "duration": 0.011183,
     "end_time": "2022-12-20T03:06:50.415120",
     "exception": false,
     "start_time": "2022-12-20T03:06:50.403937",
     "status": "completed"
    },
    "tags": []
   },
   "source": [
    "**This notebook is an exercise in the [Python](https://www.kaggle.com/learn/python) course.  You can reference the tutorial at [this link](https://www.kaggle.com/colinmorris/booleans-and-conditionals).**\n",
    "\n",
    "---\n"
   ]
  },
  {
   "cell_type": "markdown",
   "id": "8aeca118",
   "metadata": {
    "papermill": {
     "duration": 0.009783,
     "end_time": "2022-12-20T03:06:50.435158",
     "exception": false,
     "start_time": "2022-12-20T03:06:50.425375",
     "status": "completed"
    },
    "tags": []
   },
   "source": [
    "In this exercise, you'll put to work what you have learned about booleans and conditionals.\n",
    "\n",
    "To get started, **run the setup code below** before writing your own code (and if you leave this notebook and come back later, don't forget to run the setup code again)."
   ]
  },
  {
   "cell_type": "code",
   "execution_count": 1,
   "id": "f282a083",
   "metadata": {
    "execution": {
     "iopub.execute_input": "2022-12-20T03:06:50.458220Z",
     "iopub.status.busy": "2022-12-20T03:06:50.456842Z",
     "iopub.status.idle": "2022-12-20T03:06:50.519012Z",
     "shell.execute_reply": "2022-12-20T03:06:50.518085Z"
    },
    "papermill": {
     "duration": 0.077521,
     "end_time": "2022-12-20T03:06:50.522637",
     "exception": false,
     "start_time": "2022-12-20T03:06:50.445116",
     "status": "completed"
    },
    "tags": []
   },
   "outputs": [
    {
     "name": "stdout",
     "output_type": "stream",
     "text": [
      "Setup complete.\n"
     ]
    }
   ],
   "source": [
    "from learntools.core import binder; binder.bind(globals())\n",
    "from learntools.python.ex3 import *\n",
    "print('Setup complete.')"
   ]
  },
  {
   "cell_type": "markdown",
   "id": "3c0e443e",
   "metadata": {
    "papermill": {
     "duration": 0.009724,
     "end_time": "2022-12-20T03:06:50.542179",
     "exception": false,
     "start_time": "2022-12-20T03:06:50.532455",
     "status": "completed"
    },
    "tags": []
   },
   "source": [
    "# 1.\n",
    "\n",
    "Many programming languages have [`sign`](https://en.wikipedia.org/wiki/Sign_function) available as a built-in function. Python doesn't, but we can define our own!\n",
    "\n",
    "In the cell below, define a function called `sign` which takes a numerical argument and returns -1 if it's negative, 1 if it's positive, and 0 if it's 0."
   ]
  },
  {
   "cell_type": "code",
   "execution_count": 2,
   "id": "9a161348",
   "metadata": {
    "execution": {
     "iopub.execute_input": "2022-12-20T03:06:50.565540Z",
     "iopub.status.busy": "2022-12-20T03:06:50.565064Z",
     "iopub.status.idle": "2022-12-20T03:06:50.581464Z",
     "shell.execute_reply": "2022-12-20T03:06:50.579979Z"
    },
    "papermill": {
     "duration": 0.030878,
     "end_time": "2022-12-20T03:06:50.584141",
     "exception": false,
     "start_time": "2022-12-20T03:06:50.553263",
     "status": "completed"
    },
    "tags": []
   },
   "outputs": [
    {
     "data": {
      "application/javascript": [
       "parent.postMessage({\"jupyterEvent\": \"custom.exercise_interaction\", \"data\": {\"outcomeType\": 1, \"valueTowardsCompletion\": 0.2, \"interactionType\": 1, \"questionType\": 2, \"questionId\": \"1_SignFunctionProblem\", \"learnToolsVersion\": \"0.3.4\", \"failureMessage\": \"\", \"exceptionClass\": \"\", \"trace\": \"\"}}, \"*\")"
      ],
      "text/plain": [
       "<IPython.core.display.Javascript object>"
      ]
     },
     "metadata": {},
     "output_type": "display_data"
    },
    {
     "data": {
      "text/markdown": [
       "<span style=\"color:#33cc33\">Correct</span>"
      ],
      "text/plain": [
       "Correct"
      ]
     },
     "metadata": {},
     "output_type": "display_data"
    }
   ],
   "source": [
    "# Your code goes here. Define a function called 'sign'\n",
    "def sign(n):\n",
    "    if n == 0:\n",
    "        return 0\n",
    "    elif n > 0:\n",
    "        return 1\n",
    "    elif n < 0:\n",
    "        return -1\n",
    "# Check your answer\n",
    "q1.check()"
   ]
  },
  {
   "cell_type": "code",
   "execution_count": 3,
   "id": "07b2575d",
   "metadata": {
    "execution": {
     "iopub.execute_input": "2022-12-20T03:06:50.606852Z",
     "iopub.status.busy": "2022-12-20T03:06:50.606386Z",
     "iopub.status.idle": "2022-12-20T03:06:50.612719Z",
     "shell.execute_reply": "2022-12-20T03:06:50.611134Z"
    },
    "papermill": {
     "duration": 0.020733,
     "end_time": "2022-12-20T03:06:50.615374",
     "exception": false,
     "start_time": "2022-12-20T03:06:50.594641",
     "status": "completed"
    },
    "tags": []
   },
   "outputs": [],
   "source": [
    "#q1.solution()"
   ]
  },
  {
   "cell_type": "markdown",
   "id": "679def18",
   "metadata": {
    "papermill": {
     "duration": 0.009807,
     "end_time": "2022-12-20T03:06:50.635757",
     "exception": false,
     "start_time": "2022-12-20T03:06:50.625950",
     "status": "completed"
    },
    "tags": []
   },
   "source": [
    "# 2.\n",
    "\n",
    "We've decided to add \"logging\" to our `to_smash` function from the previous exercise."
   ]
  },
  {
   "cell_type": "code",
   "execution_count": 4,
   "id": "338b79cc",
   "metadata": {
    "execution": {
     "iopub.execute_input": "2022-12-20T03:06:50.657476Z",
     "iopub.status.busy": "2022-12-20T03:06:50.657016Z",
     "iopub.status.idle": "2022-12-20T03:06:50.667008Z",
     "shell.execute_reply": "2022-12-20T03:06:50.665712Z"
    },
    "papermill": {
     "duration": 0.026047,
     "end_time": "2022-12-20T03:06:50.671657",
     "exception": false,
     "start_time": "2022-12-20T03:06:50.645610",
     "status": "completed"
    },
    "tags": []
   },
   "outputs": [
    {
     "name": "stdout",
     "output_type": "stream",
     "text": [
      "Splitting 91 candies\n"
     ]
    },
    {
     "data": {
      "text/plain": [
       "1"
      ]
     },
     "execution_count": 4,
     "metadata": {},
     "output_type": "execute_result"
    }
   ],
   "source": [
    "def to_smash(total_candies):\n",
    "    \"\"\"Return the number of leftover candies that must be smashed after distributing\n",
    "    the given number of candies evenly between 3 friends.\n",
    "    \n",
    "    >>> to_smash(91)\n",
    "    1\n",
    "    \"\"\"\n",
    "    print(\"Splitting\", total_candies, \"candies\")\n",
    "    return total_candies % 3\n",
    "\n",
    "to_smash(91)"
   ]
  },
  {
   "cell_type": "markdown",
   "id": "bf4b2ed5",
   "metadata": {
    "papermill": {
     "duration": 0.010529,
     "end_time": "2022-12-20T03:06:50.692601",
     "exception": false,
     "start_time": "2022-12-20T03:06:50.682072",
     "status": "completed"
    },
    "tags": []
   },
   "source": [
    "What happens if we call it with `total_candies = 1`?"
   ]
  },
  {
   "cell_type": "code",
   "execution_count": 5,
   "id": "1bf9038f",
   "metadata": {
    "execution": {
     "iopub.execute_input": "2022-12-20T03:06:50.714484Z",
     "iopub.status.busy": "2022-12-20T03:06:50.714088Z",
     "iopub.status.idle": "2022-12-20T03:06:50.722869Z",
     "shell.execute_reply": "2022-12-20T03:06:50.720854Z"
    },
    "papermill": {
     "duration": 0.023051,
     "end_time": "2022-12-20T03:06:50.725640",
     "exception": false,
     "start_time": "2022-12-20T03:06:50.702589",
     "status": "completed"
    },
    "tags": []
   },
   "outputs": [
    {
     "name": "stdout",
     "output_type": "stream",
     "text": [
      "Splitting 1 candies\n"
     ]
    },
    {
     "data": {
      "text/plain": [
       "1"
      ]
     },
     "execution_count": 5,
     "metadata": {},
     "output_type": "execute_result"
    }
   ],
   "source": [
    "to_smash(1)"
   ]
  },
  {
   "cell_type": "markdown",
   "id": "dfe9774e",
   "metadata": {
    "papermill": {
     "duration": 0.010003,
     "end_time": "2022-12-20T03:06:50.746379",
     "exception": false,
     "start_time": "2022-12-20T03:06:50.736376",
     "status": "completed"
    },
    "tags": []
   },
   "source": [
    "That isn't great grammar!\n",
    "\n",
    "Modify the definition in the cell below to correct the grammar of our print statement. (If there's only one candy, we should use the singular \"candy\" instead of the plural \"candies\")"
   ]
  },
  {
   "cell_type": "code",
   "execution_count": 6,
   "id": "3b9cc6f2",
   "metadata": {
    "execution": {
     "iopub.execute_input": "2022-12-20T03:06:50.771335Z",
     "iopub.status.busy": "2022-12-20T03:06:50.769740Z",
     "iopub.status.idle": "2022-12-20T03:06:50.784918Z",
     "shell.execute_reply": "2022-12-20T03:06:50.782825Z"
    },
    "papermill": {
     "duration": 0.033684,
     "end_time": "2022-12-20T03:06:50.790429",
     "exception": false,
     "start_time": "2022-12-20T03:06:50.756745",
     "status": "completed"
    },
    "tags": []
   },
   "outputs": [
    {
     "name": "stdout",
     "output_type": "stream",
     "text": [
      "Splitting 91 candies\n",
      "Splitting 1 candy\n"
     ]
    },
    {
     "data": {
      "text/plain": [
       "1"
      ]
     },
     "execution_count": 6,
     "metadata": {},
     "output_type": "execute_result"
    }
   ],
   "source": [
    "def to_smash(total_candies):\n",
    "    \"\"\"Return the number of leftover candies that must be smashed after distributing\n",
    "    the given number of candies evenly between 3 friends.\n",
    "    \n",
    "    >>> to_smash(91)\n",
    "    1\n",
    "    \"\"\"\n",
    "    candyStr = \"candy\" if total_candies == 1 else \"candies\"\n",
    "#     if total_candies > 1:\n",
    "#         candyStr = \"candies\"\n",
    "    print(\"Splitting\", total_candies, candyStr)\n",
    "    return total_candies % 3\n",
    "\n",
    "to_smash(91)\n",
    "to_smash(1)"
   ]
  },
  {
   "cell_type": "markdown",
   "id": "5e231899",
   "metadata": {
    "papermill": {
     "duration": 0.016668,
     "end_time": "2022-12-20T03:06:50.820772",
     "exception": false,
     "start_time": "2022-12-20T03:06:50.804104",
     "status": "completed"
    },
    "tags": []
   },
   "source": [
    "To get credit for completing this problem, and to see the official answer, run the code cell below."
   ]
  },
  {
   "cell_type": "code",
   "execution_count": 7,
   "id": "69c01d94",
   "metadata": {
    "execution": {
     "iopub.execute_input": "2022-12-20T03:06:50.847075Z",
     "iopub.status.busy": "2022-12-20T03:06:50.846676Z",
     "iopub.status.idle": "2022-12-20T03:06:50.857416Z",
     "shell.execute_reply": "2022-12-20T03:06:50.855943Z"
    },
    "papermill": {
     "duration": 0.02655,
     "end_time": "2022-12-20T03:06:50.860351",
     "exception": false,
     "start_time": "2022-12-20T03:06:50.833801",
     "status": "completed"
    },
    "tags": []
   },
   "outputs": [
    {
     "data": {
      "application/javascript": [
       "parent.postMessage({\"jupyterEvent\": \"custom.exercise_interaction\", \"data\": {\"interactionType\": 3, \"questionType\": 4, \"questionId\": \"2_PluralizationProblem\", \"learnToolsVersion\": \"0.3.4\", \"valueTowardsCompletion\": 0.0, \"failureMessage\": \"\", \"exceptionClass\": \"\", \"trace\": \"\", \"outcomeType\": 4}}, \"*\")"
      ],
      "text/plain": [
       "<IPython.core.display.Javascript object>"
      ]
     },
     "metadata": {},
     "output_type": "display_data"
    },
    {
     "data": {
      "text/markdown": [
       "<span style=\"color:#33cc99\">Solution:</span> A straightforward (and totally fine) solution is to replace the original `print` call with:\n",
       "\n",
       "```python\n",
       "if total_candies == 1:\n",
       "    print(\"Splitting 1 candy\")\n",
       "else:\n",
       "    print(\"Splitting\", total_candies, \"candies\")\n",
       "```\n",
       "\n",
       "Here's a slightly more succinct solution using a conditional expression:\n",
       "\n",
       "```python\n",
       "print(\"Splitting\", total_candies, \"candy\" if total_candies == 1 else \"candies\")\n",
       "```"
      ],
      "text/plain": [
       "Solution: A straightforward (and totally fine) solution is to replace the original `print` call with:\n",
       "\n",
       "```python\n",
       "if total_candies == 1:\n",
       "    print(\"Splitting 1 candy\")\n",
       "else:\n",
       "    print(\"Splitting\", total_candies, \"candies\")\n",
       "```\n",
       "\n",
       "Here's a slightly more succinct solution using a conditional expression:\n",
       "\n",
       "```python\n",
       "print(\"Splitting\", total_candies, \"candy\" if total_candies == 1 else \"candies\")\n",
       "```"
      ]
     },
     "metadata": {},
     "output_type": "display_data"
    }
   ],
   "source": [
    "# Check your answer (Run this code cell to receive credit!)\n",
    "q2.solution()"
   ]
  },
  {
   "cell_type": "markdown",
   "id": "baa46723",
   "metadata": {
    "papermill": {
     "duration": 0.009978,
     "end_time": "2022-12-20T03:06:50.881478",
     "exception": false,
     "start_time": "2022-12-20T03:06:50.871500",
     "status": "completed"
    },
    "tags": []
   },
   "source": [
    "# 3. <span title=\"A bit spicy\" style=\"color: darkgreen \">🌶️</span>\n",
    "\n",
    "In the tutorial, we talked about deciding whether we're prepared for the weather. I said that I'm safe from today's weather if...\n",
    "- I have an umbrella...\n",
    "- or if the rain isn't too heavy and I have a hood...\n",
    "- otherwise, I'm still fine unless it's raining *and* it's a workday\n",
    "\n",
    "The function below uses our first attempt at turning this logic into a Python expression. I claimed that there was a bug in that code. Can you find it?\n",
    "\n",
    "To prove that `prepared_for_weather` is buggy, come up with a set of inputs where either:\n",
    "- the function returns `False` (but should have returned `True`), or\n",
    "- the function returned `True` (but should have returned `False`).\n",
    "\n",
    "To get credit for completing this question, your code should return a <font color='#33cc33'>Correct</font> result."
   ]
  },
  {
   "cell_type": "code",
   "execution_count": 8,
   "id": "e7d4e2f5",
   "metadata": {
    "execution": {
     "iopub.execute_input": "2022-12-20T03:06:50.904260Z",
     "iopub.status.busy": "2022-12-20T03:06:50.903825Z",
     "iopub.status.idle": "2022-12-20T03:06:50.918362Z",
     "shell.execute_reply": "2022-12-20T03:06:50.917345Z"
    },
    "papermill": {
     "duration": 0.028423,
     "end_time": "2022-12-20T03:06:50.920664",
     "exception": false,
     "start_time": "2022-12-20T03:06:50.892241",
     "status": "completed"
    },
    "tags": []
   },
   "outputs": [
    {
     "name": "stdout",
     "output_type": "stream",
     "text": [
      "False\n"
     ]
    },
    {
     "data": {
      "application/javascript": [
       "parent.postMessage({\"jupyterEvent\": \"custom.exercise_interaction\", \"data\": {\"outcomeType\": 1, \"valueTowardsCompletion\": 0.2, \"interactionType\": 1, \"questionType\": 1, \"questionId\": \"3_WeatherDebug\", \"learnToolsVersion\": \"0.3.4\", \"failureMessage\": \"\", \"exceptionClass\": \"\", \"trace\": \"\"}}, \"*\")"
      ],
      "text/plain": [
       "<IPython.core.display.Javascript object>"
      ]
     },
     "metadata": {},
     "output_type": "display_data"
    },
    {
     "data": {
      "text/markdown": [
       "<span style=\"color:#33cc33\">Correct:</span> \n",
       "\n",
       "One example of a failing test case is:\n",
       "\n",
       "```python\n",
       "have_umbrella = False\n",
       "rain_level = 0.0\n",
       "have_hood = False\n",
       "is_workday = False\n",
       "```\n",
       "\n",
       "Clearly we're prepared for the weather in this case. It's not raining. Not only that, it's not a workday, so we don't even need to leave the house! But our function will return False on these inputs.\n",
       "\n",
       "The key problem is that Python implictly parenthesizes the last part as:\n",
       "\n",
       "```python\n",
       "(not (rain_level > 0)) and is_workday\n",
       "```\n",
       "\n",
       "Whereas what we were trying to express would look more like:\n",
       "\n",
       "```python\n",
       "not (rain_level > 0 and is_workday)\n",
       "```\n"
      ],
      "text/plain": [
       "Correct: \n",
       "\n",
       "One example of a failing test case is:\n",
       "\n",
       "```python\n",
       "have_umbrella = False\n",
       "rain_level = 0.0\n",
       "have_hood = False\n",
       "is_workday = False\n",
       "```\n",
       "\n",
       "Clearly we're prepared for the weather in this case. It's not raining. Not only that, it's not a workday, so we don't even need to leave the house! But our function will return False on these inputs.\n",
       "\n",
       "The key problem is that Python implictly parenthesizes the last part as:\n",
       "\n",
       "```python\n",
       "(not (rain_level > 0)) and is_workday\n",
       "```\n",
       "\n",
       "Whereas what we were trying to express would look more like:\n",
       "\n",
       "```python\n",
       "not (rain_level > 0 and is_workday)\n",
       "```"
      ]
     },
     "metadata": {},
     "output_type": "display_data"
    }
   ],
   "source": [
    "def prepared_for_weather(have_umbrella, rain_level, have_hood, is_workday):\n",
    "    # Don't change this code. Our goal is just to find the bug, not fix it!\n",
    "    return have_umbrella or rain_level < 5 and have_hood or not rain_level > 0 and is_workday\n",
    "\n",
    "# Change the values of these inputs so they represent a case where prepared_for_weather\n",
    "# returns the wrong answer.\n",
    "have_umbrella = False\n",
    "rain_level = 1\n",
    "have_hood = False\n",
    "is_workday = False\n",
    "# Check what the function returns given the current values of the variables above\n",
    "actual = prepared_for_weather(have_umbrella, rain_level, have_hood, is_workday)\n",
    "print(actual)\n",
    "\n",
    "# Check your answer\n",
    "q3.check()"
   ]
  },
  {
   "cell_type": "code",
   "execution_count": 9,
   "id": "28f3e046",
   "metadata": {
    "execution": {
     "iopub.execute_input": "2022-12-20T03:06:50.946286Z",
     "iopub.status.busy": "2022-12-20T03:06:50.945892Z",
     "iopub.status.idle": "2022-12-20T03:06:50.951514Z",
     "shell.execute_reply": "2022-12-20T03:06:50.950026Z"
    },
    "papermill": {
     "duration": 0.022462,
     "end_time": "2022-12-20T03:06:50.954583",
     "exception": false,
     "start_time": "2022-12-20T03:06:50.932121",
     "status": "completed"
    },
    "tags": []
   },
   "outputs": [],
   "source": [
    "#q3.hint()\n",
    "#q3.solution()"
   ]
  },
  {
   "cell_type": "markdown",
   "id": "9a6ceac9",
   "metadata": {
    "papermill": {
     "duration": 0.011537,
     "end_time": "2022-12-20T03:06:50.977413",
     "exception": false,
     "start_time": "2022-12-20T03:06:50.965876",
     "status": "completed"
    },
    "tags": []
   },
   "source": [
    "# 4.\n",
    "\n",
    "The function `is_negative` below is implemented correctly - it returns True if the given number is negative and False otherwise.\n",
    "\n",
    "However, it's more verbose than it needs to be. We can actually reduce the number of lines of code in this function by *75%* while keeping the same behaviour. \n",
    "\n",
    "See if you can come up with an equivalent body that uses just **one line** of code, and put it in the function `concise_is_negative`. (HINT: you don't even need Python's ternary syntax)"
   ]
  },
  {
   "cell_type": "code",
   "execution_count": 10,
   "id": "718076e7",
   "metadata": {
    "execution": {
     "iopub.execute_input": "2022-12-20T03:06:51.002088Z",
     "iopub.status.busy": "2022-12-20T03:06:51.001662Z",
     "iopub.status.idle": "2022-12-20T03:06:51.013656Z",
     "shell.execute_reply": "2022-12-20T03:06:51.012459Z"
    },
    "papermill": {
     "duration": 0.027603,
     "end_time": "2022-12-20T03:06:51.016370",
     "exception": false,
     "start_time": "2022-12-20T03:06:50.988767",
     "status": "completed"
    },
    "tags": []
   },
   "outputs": [
    {
     "data": {
      "application/javascript": [
       "parent.postMessage({\"jupyterEvent\": \"custom.exercise_interaction\", \"data\": {\"outcomeType\": 1, \"valueTowardsCompletion\": 0.2, \"interactionType\": 1, \"questionType\": 2, \"questionId\": \"4_ConciseIsNegative\", \"learnToolsVersion\": \"0.3.4\", \"failureMessage\": \"\", \"exceptionClass\": \"\", \"trace\": \"\"}}, \"*\")"
      ],
      "text/plain": [
       "<IPython.core.display.Javascript object>"
      ]
     },
     "metadata": {},
     "output_type": "display_data"
    },
    {
     "data": {
      "text/markdown": [
       "<span style=\"color:#33cc33\">Correct</span>"
      ],
      "text/plain": [
       "Correct"
      ]
     },
     "metadata": {},
     "output_type": "display_data"
    }
   ],
   "source": [
    "def is_negative(number):\n",
    "    if number < 0:\n",
    "        return True\n",
    "    else:\n",
    "        return False\n",
    "\n",
    "def concise_is_negative(number):\n",
    "    return number < 0\n",
    "    pass # Your code goes here (try to keep it to one line!)\n",
    "\n",
    "# Check your answer\n",
    "q4.check()"
   ]
  },
  {
   "cell_type": "code",
   "execution_count": 11,
   "id": "acb19706",
   "metadata": {
    "execution": {
     "iopub.execute_input": "2022-12-20T03:06:51.044334Z",
     "iopub.status.busy": "2022-12-20T03:06:51.043866Z",
     "iopub.status.idle": "2022-12-20T03:06:51.048138Z",
     "shell.execute_reply": "2022-12-20T03:06:51.047256Z"
    },
    "papermill": {
     "duration": 0.021216,
     "end_time": "2022-12-20T03:06:51.050398",
     "exception": false,
     "start_time": "2022-12-20T03:06:51.029182",
     "status": "completed"
    },
    "tags": []
   },
   "outputs": [],
   "source": [
    "#q4.hint()\n",
    "#q4.solution()"
   ]
  },
  {
   "cell_type": "markdown",
   "id": "000dac57",
   "metadata": {
    "papermill": {
     "duration": 0.012083,
     "end_time": "2022-12-20T03:06:51.073461",
     "exception": false,
     "start_time": "2022-12-20T03:06:51.061378",
     "status": "completed"
    },
    "tags": []
   },
   "source": [
    "# 5a.\n",
    "\n",
    "The boolean variables `ketchup`, `mustard` and `onion` represent whether a customer wants a particular topping on their hot dog. We want to implement a number of boolean functions that correspond to some yes-or-no questions about the customer's order. For example:"
   ]
  },
  {
   "cell_type": "code",
   "execution_count": 12,
   "id": "e53dd62c",
   "metadata": {
    "execution": {
     "iopub.execute_input": "2022-12-20T03:06:51.100099Z",
     "iopub.status.busy": "2022-12-20T03:06:51.099670Z",
     "iopub.status.idle": "2022-12-20T03:06:51.105485Z",
     "shell.execute_reply": "2022-12-20T03:06:51.104201Z"
    },
    "papermill": {
     "duration": 0.022097,
     "end_time": "2022-12-20T03:06:51.108505",
     "exception": false,
     "start_time": "2022-12-20T03:06:51.086408",
     "status": "completed"
    },
    "tags": []
   },
   "outputs": [],
   "source": [
    "def onionless(ketchup, mustard, onion):\n",
    "    \"\"\"Return whether the customer doesn't want onions.\n",
    "    \"\"\"\n",
    "    return not onion"
   ]
  },
  {
   "cell_type": "code",
   "execution_count": 13,
   "id": "877f7d6b",
   "metadata": {
    "execution": {
     "iopub.execute_input": "2022-12-20T03:06:51.135514Z",
     "iopub.status.busy": "2022-12-20T03:06:51.134728Z",
     "iopub.status.idle": "2022-12-20T03:06:51.146053Z",
     "shell.execute_reply": "2022-12-20T03:06:51.144730Z"
    },
    "papermill": {
     "duration": 0.029565,
     "end_time": "2022-12-20T03:06:51.149459",
     "exception": false,
     "start_time": "2022-12-20T03:06:51.119894",
     "status": "completed"
    },
    "tags": []
   },
   "outputs": [
    {
     "data": {
      "application/javascript": [
       "parent.postMessage({\"jupyterEvent\": \"custom.exercise_interaction\", \"data\": {\"outcomeType\": 1, \"valueTowardsCompletion\": 0.2, \"interactionType\": 1, \"questionType\": 2, \"questionId\": \"5.1_AllToppings\", \"learnToolsVersion\": \"0.3.4\", \"failureMessage\": \"\", \"exceptionClass\": \"\", \"trace\": \"\"}}, \"*\")"
      ],
      "text/plain": [
       "<IPython.core.display.Javascript object>"
      ]
     },
     "metadata": {},
     "output_type": "display_data"
    },
    {
     "data": {
      "text/markdown": [
       "<span style=\"color:#33cc33\">Correct</span>"
      ],
      "text/plain": [
       "Correct"
      ]
     },
     "metadata": {},
     "output_type": "display_data"
    }
   ],
   "source": [
    "def wants_all_toppings(ketchup, mustard, onion):\n",
    "    \"\"\"Return whether the customer wants \"the works\" (all 3 toppings)\n",
    "    \"\"\"\n",
    "    pass\n",
    "    return ketchup and mustard and onion\n",
    "\n",
    "# Check your answer\n",
    "q5.a.check()"
   ]
  },
  {
   "cell_type": "code",
   "execution_count": 14,
   "id": "448be6a1",
   "metadata": {
    "execution": {
     "iopub.execute_input": "2022-12-20T03:06:51.176178Z",
     "iopub.status.busy": "2022-12-20T03:06:51.175724Z",
     "iopub.status.idle": "2022-12-20T03:06:51.181875Z",
     "shell.execute_reply": "2022-12-20T03:06:51.180141Z"
    },
    "papermill": {
     "duration": 0.024075,
     "end_time": "2022-12-20T03:06:51.185689",
     "exception": false,
     "start_time": "2022-12-20T03:06:51.161614",
     "status": "completed"
    },
    "tags": []
   },
   "outputs": [],
   "source": [
    "#q5.a.hint()\n",
    "#q5.a.solution()"
   ]
  },
  {
   "cell_type": "markdown",
   "id": "6ebd8c7f",
   "metadata": {
    "papermill": {
     "duration": 0.01307,
     "end_time": "2022-12-20T03:06:51.212325",
     "exception": false,
     "start_time": "2022-12-20T03:06:51.199255",
     "status": "completed"
    },
    "tags": []
   },
   "source": [
    "# 5b.\n",
    "\n",
    "For the next function, fill in the body to match the English description in the docstring. "
   ]
  },
  {
   "cell_type": "code",
   "execution_count": 15,
   "id": "7e40a2b1",
   "metadata": {
    "execution": {
     "iopub.execute_input": "2022-12-20T03:06:51.246149Z",
     "iopub.status.busy": "2022-12-20T03:06:51.245552Z",
     "iopub.status.idle": "2022-12-20T03:06:51.254761Z",
     "shell.execute_reply": "2022-12-20T03:06:51.253877Z"
    },
    "papermill": {
     "duration": 0.033088,
     "end_time": "2022-12-20T03:06:51.257148",
     "exception": false,
     "start_time": "2022-12-20T03:06:51.224060",
     "status": "completed"
    },
    "tags": []
   },
   "outputs": [
    {
     "data": {
      "application/javascript": [
       "parent.postMessage({\"jupyterEvent\": \"custom.exercise_interaction\", \"data\": {\"outcomeType\": 1, \"valueTowardsCompletion\": 0.2, \"interactionType\": 1, \"questionType\": 2, \"questionId\": \"5.2_PlainDog\", \"learnToolsVersion\": \"0.3.4\", \"failureMessage\": \"\", \"exceptionClass\": \"\", \"trace\": \"\"}}, \"*\")"
      ],
      "text/plain": [
       "<IPython.core.display.Javascript object>"
      ]
     },
     "metadata": {},
     "output_type": "display_data"
    },
    {
     "data": {
      "text/markdown": [
       "<span style=\"color:#33cc33\">Correct:</span> \n",
       "\n",
       "One solution looks like:\n",
       "```python\n",
       "return not ketchup and not mustard and not onion\n",
       "```\n",
       "\n",
       "We can also [\"factor out\" the nots](https://en.wikipedia.org/wiki/De_Morgan%27s_laws) to get:\n",
       "\n",
       "```python\n",
       "return not (ketchup or mustard or onion)\n",
       "```"
      ],
      "text/plain": [
       "Correct: \n",
       "\n",
       "One solution looks like:\n",
       "```python\n",
       "return not ketchup and not mustard and not onion\n",
       "```\n",
       "\n",
       "We can also [\"factor out\" the nots](https://en.wikipedia.org/wiki/De_Morgan%27s_laws) to get:\n",
       "\n",
       "```python\n",
       "return not (ketchup or mustard or onion)\n",
       "```"
      ]
     },
     "metadata": {},
     "output_type": "display_data"
    }
   ],
   "source": [
    "def wants_plain_hotdog(ketchup, mustard, onion):\n",
    "    \"\"\"Return whether the customer wants a plain hot dog with no toppings.\n",
    "    \"\"\"\n",
    "    pass\n",
    "    return not ketchup and not mustard and not onion\n",
    "\n",
    "# Check your answer\n",
    "q5.b.check()"
   ]
  },
  {
   "cell_type": "code",
   "execution_count": 16,
   "id": "14036315",
   "metadata": {
    "execution": {
     "iopub.execute_input": "2022-12-20T03:06:51.297423Z",
     "iopub.status.busy": "2022-12-20T03:06:51.297017Z",
     "iopub.status.idle": "2022-12-20T03:06:51.301880Z",
     "shell.execute_reply": "2022-12-20T03:06:51.300628Z"
    },
    "papermill": {
     "duration": 0.028332,
     "end_time": "2022-12-20T03:06:51.304722",
     "exception": false,
     "start_time": "2022-12-20T03:06:51.276390",
     "status": "completed"
    },
    "tags": []
   },
   "outputs": [],
   "source": [
    "#q5.b.hint()\n",
    "#q5.b.solution()"
   ]
  },
  {
   "cell_type": "markdown",
   "id": "5579eb20",
   "metadata": {
    "papermill": {
     "duration": 0.011767,
     "end_time": "2022-12-20T03:06:51.330743",
     "exception": false,
     "start_time": "2022-12-20T03:06:51.318976",
     "status": "completed"
    },
    "tags": []
   },
   "source": [
    "# 5c.\n",
    "\n",
    "You know what to do: for the next function, fill in the body to match the English description in the docstring."
   ]
  },
  {
   "cell_type": "code",
   "execution_count": 17,
   "id": "ef740dad",
   "metadata": {
    "execution": {
     "iopub.execute_input": "2022-12-20T03:06:51.359783Z",
     "iopub.status.busy": "2022-12-20T03:06:51.359385Z",
     "iopub.status.idle": "2022-12-20T03:06:51.370510Z",
     "shell.execute_reply": "2022-12-20T03:06:51.369361Z"
    },
    "papermill": {
     "duration": 0.029604,
     "end_time": "2022-12-20T03:06:51.372677",
     "exception": false,
     "start_time": "2022-12-20T03:06:51.343073",
     "status": "completed"
    },
    "tags": []
   },
   "outputs": [
    {
     "data": {
      "application/javascript": [
       "parent.postMessage({\"jupyterEvent\": \"custom.exercise_interaction\", \"data\": {\"outcomeType\": 1, \"valueTowardsCompletion\": 0.2, \"interactionType\": 1, \"questionType\": 2, \"questionId\": \"5.3_OneSauce\", \"learnToolsVersion\": \"0.3.4\", \"failureMessage\": \"\", \"exceptionClass\": \"\", \"trace\": \"\"}}, \"*\")"
      ],
      "text/plain": [
       "<IPython.core.display.Javascript object>"
      ]
     },
     "metadata": {},
     "output_type": "display_data"
    },
    {
     "data": {
      "text/markdown": [
       "<span style=\"color:#33cc33\">Correct</span>"
      ],
      "text/plain": [
       "Correct"
      ]
     },
     "metadata": {},
     "output_type": "display_data"
    }
   ],
   "source": [
    "def exactly_one_sauce(ketchup, mustard, onion):\n",
    "    \"\"\"Return whether the customer wants either ketchup or mustard, but not both.\n",
    "    (You may be familiar with this operation under the name \"exclusive or\")\n",
    "    \"\"\"\n",
    "    pass\n",
    "    return not (ketchup and mustard) and (ketchup or mustard)\n",
    "\n",
    "# Check your answer\n",
    "q5.c.check()"
   ]
  },
  {
   "cell_type": "code",
   "execution_count": 18,
   "id": "f6e3e2d2",
   "metadata": {
    "execution": {
     "iopub.execute_input": "2022-12-20T03:06:51.397788Z",
     "iopub.status.busy": "2022-12-20T03:06:51.397406Z",
     "iopub.status.idle": "2022-12-20T03:06:51.401141Z",
     "shell.execute_reply": "2022-12-20T03:06:51.400336Z"
    },
    "papermill": {
     "duration": 0.018816,
     "end_time": "2022-12-20T03:06:51.403263",
     "exception": false,
     "start_time": "2022-12-20T03:06:51.384447",
     "status": "completed"
    },
    "tags": []
   },
   "outputs": [],
   "source": [
    "#q5.c.hint()\n",
    "#q5.c.solution()"
   ]
  },
  {
   "cell_type": "markdown",
   "id": "0f151dd4",
   "metadata": {
    "papermill": {
     "duration": 0.012261,
     "end_time": "2022-12-20T03:06:51.427935",
     "exception": false,
     "start_time": "2022-12-20T03:06:51.415674",
     "status": "completed"
    },
    "tags": []
   },
   "source": [
    "# 6. <span title=\"A bit spicy\" style=\"color: darkgreen \">🌶️</span>\n",
    "\n",
    "We’ve seen that calling `bool()` on an integer returns `False` if it’s equal to 0 and `True` otherwise. What happens if we call `int()` on a bool? Try it out in the notebook cell below.\n",
    "\n",
    "Can you take advantage of this to write a succinct function that corresponds to the English sentence \"does the customer want exactly one topping?\"?"
   ]
  },
  {
   "cell_type": "code",
   "execution_count": 19,
   "id": "c32a7cb0",
   "metadata": {
    "execution": {
     "iopub.execute_input": "2022-12-20T03:06:51.454583Z",
     "iopub.status.busy": "2022-12-20T03:06:51.453368Z",
     "iopub.status.idle": "2022-12-20T03:06:51.463894Z",
     "shell.execute_reply": "2022-12-20T03:06:51.462548Z"
    },
    "papermill": {
     "duration": 0.026268,
     "end_time": "2022-12-20T03:06:51.466731",
     "exception": false,
     "start_time": "2022-12-20T03:06:51.440463",
     "status": "completed"
    },
    "tags": []
   },
   "outputs": [
    {
     "data": {
      "application/javascript": [
       "parent.postMessage({\"jupyterEvent\": \"custom.exercise_interaction\", \"data\": {\"outcomeType\": 1, \"valueTowardsCompletion\": 0.2, \"interactionType\": 1, \"questionType\": 2, \"questionId\": \"6_OneTopping\", \"learnToolsVersion\": \"0.3.4\", \"failureMessage\": \"\", \"exceptionClass\": \"\", \"trace\": \"\"}}, \"*\")"
      ],
      "text/plain": [
       "<IPython.core.display.Javascript object>"
      ]
     },
     "metadata": {},
     "output_type": "display_data"
    },
    {
     "data": {
      "text/markdown": [
       "<span style=\"color:#33cc33\">Correct:</span> \n",
       "\n",
       "This condition would be pretty complicated to express using just `and`, `or` and `not`, but using boolean-to-integer conversion gives us this short solution:\n",
       "```python\n",
       "return (int(ketchup) + int(mustard) + int(onion)) == 1\n",
       "```\n",
       "\n",
       "Fun fact: we don't technically need to call `int` on the arguments. Just by doing addition with booleans, Python implicitly does the integer conversion. So we could also write...\n",
       "\n",
       "```python\n",
       "return (ketchup + mustard + onion) == 1\n",
       "```"
      ],
      "text/plain": [
       "Correct: \n",
       "\n",
       "This condition would be pretty complicated to express using just `and`, `or` and `not`, but using boolean-to-integer conversion gives us this short solution:\n",
       "```python\n",
       "return (int(ketchup) + int(mustard) + int(onion)) == 1\n",
       "```\n",
       "\n",
       "Fun fact: we don't technically need to call `int` on the arguments. Just by doing addition with booleans, Python implicitly does the integer conversion. So we could also write...\n",
       "\n",
       "```python\n",
       "return (ketchup + mustard + onion) == 1\n",
       "```"
      ]
     },
     "metadata": {},
     "output_type": "display_data"
    }
   ],
   "source": [
    "def exactly_one_topping(ketchup, mustard, onion):\n",
    "    \"\"\"Return whether the customer wants exactly one of the three available toppings\n",
    "    on their hot dog.\n",
    "    \"\"\"\n",
    "    pass\n",
    "    return int(ketchup) + int(mustard) + int(onion) == 1\n",
    "\n",
    "# Check your answer\n",
    "q6.check()"
   ]
  },
  {
   "cell_type": "code",
   "execution_count": 20,
   "id": "e7cfead8",
   "metadata": {
    "execution": {
     "iopub.execute_input": "2022-12-20T03:06:51.495853Z",
     "iopub.status.busy": "2022-12-20T03:06:51.495423Z",
     "iopub.status.idle": "2022-12-20T03:06:51.500383Z",
     "shell.execute_reply": "2022-12-20T03:06:51.498883Z"
    },
    "papermill": {
     "duration": 0.023831,
     "end_time": "2022-12-20T03:06:51.503879",
     "exception": false,
     "start_time": "2022-12-20T03:06:51.480048",
     "status": "completed"
    },
    "tags": []
   },
   "outputs": [],
   "source": [
    "#q6.hint()\n",
    "#q6.solution()"
   ]
  },
  {
   "cell_type": "markdown",
   "id": "6bfe3c8a",
   "metadata": {
    "papermill": {
     "duration": 0.013013,
     "end_time": "2022-12-20T03:06:51.530577",
     "exception": false,
     "start_time": "2022-12-20T03:06:51.517564",
     "status": "completed"
    },
    "tags": []
   },
   "source": [
    "# 7. <span title=\"A bit spicy\" style=\"color: darkgreen \">🌶️</span> (Optional)\n",
    "\n",
    "In this problem we'll be working with a simplified version of [blackjack](https://en.wikipedia.org/wiki/Blackjack) (aka twenty-one). In this version there is one player (who you'll control) and a dealer. Play proceeds as follows:\n",
    "\n",
    "- The player is dealt two face-up cards. The dealer is dealt one face-up card.\n",
    "- The player may ask to be dealt another card ('hit') as many times as they wish. If the sum of their cards exceeds 21, they lose the round immediately.\n",
    "- The dealer then deals additional cards to himself until either:\n",
    "    - the sum of the dealer's cards exceeds 21, in which case the player wins the round\n",
    "    - the sum of the dealer's cards is greater than or equal to 17. If the player's total is greater than the dealer's, the player wins. Otherwise, the dealer wins (even in case of a tie).\n",
    "    \n",
    "When calculating the sum of cards, Jack, Queen, and King count for 10. Aces can count as 1 or 11 (when referring to a player's \"total\" above, we mean the largest total that can be made without exceeding 21. So e.g. A+8 = 19, A+8+8 = 17)\n",
    "\n",
    "For this problem, you'll write a function representing the player's decision-making strategy in this game. We've provided a very unintelligent implementation below:"
   ]
  },
  {
   "cell_type": "code",
   "execution_count": 21,
   "id": "c1b9bd24",
   "metadata": {
    "execution": {
     "iopub.execute_input": "2022-12-20T03:06:51.560093Z",
     "iopub.status.busy": "2022-12-20T03:06:51.559585Z",
     "iopub.status.idle": "2022-12-20T03:06:51.565836Z",
     "shell.execute_reply": "2022-12-20T03:06:51.564493Z"
    },
    "papermill": {
     "duration": 0.026407,
     "end_time": "2022-12-20T03:06:51.569100",
     "exception": false,
     "start_time": "2022-12-20T03:06:51.542693",
     "status": "completed"
    },
    "tags": []
   },
   "outputs": [],
   "source": [
    "def should_hit(dealer_total, player_total, player_low_aces, player_high_aces):\n",
    "    \"\"\"Return True if the player should hit (request another card) given the current game\n",
    "    state, or False if the player should stay.\n",
    "    When calculating a hand's total value, we count aces as \"high\" (with value 11) if doing so\n",
    "    doesn't bring the total above 21, otherwise we count them as low (with value 1). \n",
    "    For example, if the player's hand is {A, A, A, 7}, we will count it as 11 + 1 + 1 + 7,\n",
    "    and therefore set player_total=20, player_low_aces=2, player_high_aces=1.\n",
    "    \"\"\"\n",
    "    \n",
    "    return player_total + player_high_aces < 17 or player_total + player_low_aces < 21"
   ]
  },
  {
   "cell_type": "markdown",
   "id": "eff494e8",
   "metadata": {
    "papermill": {
     "duration": 0.012574,
     "end_time": "2022-12-20T03:06:51.594452",
     "exception": false,
     "start_time": "2022-12-20T03:06:51.581878",
     "status": "completed"
    },
    "tags": []
   },
   "source": [
    "This very conservative agent *always* sticks with the hand of two cards that they're dealt.\n",
    "\n",
    "We'll be simulating games between your player agent and our own dealer agent by calling your function.\n",
    "\n",
    "Try running the function below to see an example of a simulated game:"
   ]
  },
  {
   "cell_type": "code",
   "execution_count": 22,
   "id": "e3cff72e",
   "metadata": {
    "execution": {
     "iopub.execute_input": "2022-12-20T03:06:51.623022Z",
     "iopub.status.busy": "2022-12-20T03:06:51.622615Z",
     "iopub.status.idle": "2022-12-20T03:06:51.628923Z",
     "shell.execute_reply": "2022-12-20T03:06:51.627518Z"
    },
    "papermill": {
     "duration": 0.02475,
     "end_time": "2022-12-20T03:06:51.631757",
     "exception": false,
     "start_time": "2022-12-20T03:06:51.607007",
     "status": "completed"
    },
    "tags": []
   },
   "outputs": [
    {
     "name": "stdout",
     "output_type": "stream",
     "text": [
      "Player starts with A and J (total = 21)\n",
      "Dealer starts with A\n",
      "\n",
      "__Player's turn__\n",
      "Player stays\n",
      "\n",
      "__Dealer's turn__\n",
      "Dealer hits and receives 5. (total = 16)\n",
      "Dealer hits and receives 2. (total = 18)\n",
      "Dealer stands.\n",
      "Player wins. 21 > 18\n"
     ]
    }
   ],
   "source": [
    "q7.simulate_one_game()"
   ]
  },
  {
   "cell_type": "markdown",
   "id": "474e244c",
   "metadata": {
    "papermill": {
     "duration": 0.013274,
     "end_time": "2022-12-20T03:06:51.658895",
     "exception": false,
     "start_time": "2022-12-20T03:06:51.645621",
     "status": "completed"
    },
    "tags": []
   },
   "source": [
    "The real test of your agent's mettle is their average win rate over many games. Try calling the function below to simulate 50000 games of blackjack (it may take a couple seconds):"
   ]
  },
  {
   "cell_type": "code",
   "execution_count": 23,
   "id": "332b5576",
   "metadata": {
    "execution": {
     "iopub.execute_input": "2022-12-20T03:06:51.686929Z",
     "iopub.status.busy": "2022-12-20T03:06:51.686490Z",
     "iopub.status.idle": "2022-12-20T03:06:53.422362Z",
     "shell.execute_reply": "2022-12-20T03:06:53.420853Z"
    },
    "papermill": {
     "duration": 1.75317,
     "end_time": "2022-12-20T03:06:53.425822",
     "exception": false,
     "start_time": "2022-12-20T03:06:51.672652",
     "status": "completed"
    },
    "tags": []
   },
   "outputs": [
    {
     "name": "stdout",
     "output_type": "stream",
     "text": [
      "Player won 8976 out of 50000 games (win rate = 18.0%)\n"
     ]
    }
   ],
   "source": [
    "q7.simulate(n_games=50000)"
   ]
  },
  {
   "cell_type": "markdown",
   "id": "9e8f2b91",
   "metadata": {
    "papermill": {
     "duration": 0.013309,
     "end_time": "2022-12-20T03:06:53.452987",
     "exception": false,
     "start_time": "2022-12-20T03:06:53.439678",
     "status": "completed"
    },
    "tags": []
   },
   "source": [
    "Our dumb agent that completely ignores the game state still manages to win shockingly often!\n",
    "\n",
    "Try adding some more smarts to the `should_hit` function and see how it affects the results."
   ]
  },
  {
   "cell_type": "code",
   "execution_count": 24,
   "id": "1e140690",
   "metadata": {
    "execution": {
     "iopub.execute_input": "2022-12-20T03:06:53.479113Z",
     "iopub.status.busy": "2022-12-20T03:06:53.478696Z",
     "iopub.status.idle": "2022-12-20T03:06:55.385718Z",
     "shell.execute_reply": "2022-12-20T03:06:55.383318Z"
    },
    "papermill": {
     "duration": 1.924699,
     "end_time": "2022-12-20T03:06:55.390096",
     "exception": false,
     "start_time": "2022-12-20T03:06:53.465397",
     "status": "completed"
    },
    "tags": []
   },
   "outputs": [
    {
     "name": "stdout",
     "output_type": "stream",
     "text": [
      "Player won 20506 out of 50000 games (win rate = 41.0%)\n"
     ]
    }
   ],
   "source": [
    "def should_hit(dealer_total, player_total, player_low_aces, player_high_aces):\n",
    "    \"\"\"Return True if the player should hit (request another card) given the current game\n",
    "    state, or False if the player should stay.\n",
    "    When calculating a hand's total value, we count aces as \"high\" (with value 11) if doing so\n",
    "    doesn't bring the total above 21, otherwise we count them as low (with value 1). \n",
    "    For example, if the player's hand is {A, A, A, 7}, we will count it as 11 + 1 + 1 + 7,\n",
    "    and therefore set player_total=20, player_low_aces=2, player_high_aces=1.\n",
    "    \"\"\"\n",
    "    return (player_total < 11 and player_high_aces == 0) or (player_total < 17 and player_low_aces < 4)\n",
    "\n",
    "q7.simulate(n_games=50000)"
   ]
  },
  {
   "cell_type": "markdown",
   "id": "64951cab",
   "metadata": {
    "papermill": {
     "duration": 0.011571,
     "end_time": "2022-12-20T03:06:55.414688",
     "exception": false,
     "start_time": "2022-12-20T03:06:55.403117",
     "status": "completed"
    },
    "tags": []
   },
   "source": [
    "# Keep Going\n",
    "\n",
    "Learn about **[lists and tuples](https://www.kaggle.com/colinmorris/lists)** to handle multiple items of data in a systematic way."
   ]
  },
  {
   "cell_type": "markdown",
   "id": "f7149709",
   "metadata": {
    "papermill": {
     "duration": 0.011561,
     "end_time": "2022-12-20T03:06:55.438232",
     "exception": false,
     "start_time": "2022-12-20T03:06:55.426671",
     "status": "completed"
    },
    "tags": []
   },
   "source": [
    "---\n",
    "\n",
    "\n",
    "\n",
    "\n",
    "*Have questions or comments? Visit the [course discussion forum](https://www.kaggle.com/learn/python/discussion) to chat with other learners.*"
   ]
  }
 ],
 "metadata": {
  "kernelspec": {
   "display_name": "Python 3",
   "language": "python",
   "name": "python3"
  },
  "language_info": {
   "codemirror_mode": {
    "name": "ipython",
    "version": 3
   },
   "file_extension": ".py",
   "mimetype": "text/x-python",
   "name": "python",
   "nbconvert_exporter": "python",
   "pygments_lexer": "ipython3",
   "version": "3.7.12"
  },
  "papermill": {
   "default_parameters": {},
   "duration": 15.487819,
   "end_time": "2022-12-20T03:06:56.172843",
   "environment_variables": {},
   "exception": null,
   "input_path": "__notebook__.ipynb",
   "output_path": "__notebook__.ipynb",
   "parameters": {},
   "start_time": "2022-12-20T03:06:40.685024",
   "version": "2.3.4"
  }
 },
 "nbformat": 4,
 "nbformat_minor": 5
}
