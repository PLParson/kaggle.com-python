{
 "cells": [
  {
   "cell_type": "markdown",
   "id": "5018edfa",
   "metadata": {
    "papermill": {
     "duration": 0.006301,
     "end_time": "2022-12-20T03:05:55.282486",
     "exception": false,
     "start_time": "2022-12-20T03:05:55.276185",
     "status": "completed"
    },
    "tags": []
   },
   "source": [
    "**This notebook is an exercise in the [Python](https://www.kaggle.com/learn/python) course.  You can reference the tutorial at [this link](https://www.kaggle.com/colinmorris/functions-and-getting-help).**\n",
    "\n",
    "---\n"
   ]
  },
  {
   "cell_type": "markdown",
   "id": "fd20c15e",
   "metadata": {
    "papermill": {
     "duration": 0.004512,
     "end_time": "2022-12-20T03:05:55.292123",
     "exception": false,
     "start_time": "2022-12-20T03:05:55.287611",
     "status": "completed"
    },
    "tags": []
   },
   "source": [
    "Functions are powerful. Try writing some yourself.\n",
    "\n",
    "As before, don't forget to run the setup code below before jumping into question 1."
   ]
  },
  {
   "cell_type": "code",
   "execution_count": 1,
   "id": "7df98e5b",
   "metadata": {
    "_kg_hide-input": true,
    "_kg_hide-output": true,
    "execution": {
     "iopub.execute_input": "2022-12-20T03:05:55.304104Z",
     "iopub.status.busy": "2022-12-20T03:05:55.303545Z",
     "iopub.status.idle": "2022-12-20T03:05:55.374752Z",
     "shell.execute_reply": "2022-12-20T03:05:55.373498Z"
    },
    "papermill": {
     "duration": 0.081388,
     "end_time": "2022-12-20T03:05:55.378466",
     "exception": false,
     "start_time": "2022-12-20T03:05:55.297078",
     "status": "completed"
    },
    "tags": []
   },
   "outputs": [
    {
     "name": "stdout",
     "output_type": "stream",
     "text": [
      "Setup complete.\n"
     ]
    }
   ],
   "source": [
    "# SETUP. You don't need to worry for now about what this code does or how it works.\n",
    "from learntools.core import binder; binder.bind(globals())\n",
    "from learntools.python.ex2 import *\n",
    "print('Setup complete.')"
   ]
  },
  {
   "cell_type": "markdown",
   "id": "0187fe6f",
   "metadata": {
    "papermill": {
     "duration": 0.00496,
     "end_time": "2022-12-20T03:05:55.389469",
     "exception": false,
     "start_time": "2022-12-20T03:05:55.384509",
     "status": "completed"
    },
    "tags": []
   },
   "source": [
    "# 1.\n",
    "\n",
    "Complete the body of the following function according to its docstring.\n",
    "\n",
    "HINT: Python has a built-in function `round`."
   ]
  },
  {
   "cell_type": "code",
   "execution_count": 2,
   "id": "97e9fa14",
   "metadata": {
    "execution": {
     "iopub.execute_input": "2022-12-20T03:05:55.401541Z",
     "iopub.status.busy": "2022-12-20T03:05:55.401089Z",
     "iopub.status.idle": "2022-12-20T03:05:55.414334Z",
     "shell.execute_reply": "2022-12-20T03:05:55.412810Z"
    },
    "papermill": {
     "duration": 0.022666,
     "end_time": "2022-12-20T03:05:55.417181",
     "exception": false,
     "start_time": "2022-12-20T03:05:55.394515",
     "status": "completed"
    },
    "tags": []
   },
   "outputs": [
    {
     "data": {
      "application/javascript": [
       "parent.postMessage({\"jupyterEvent\": \"custom.exercise_interaction\", \"data\": {\"outcomeType\": 1, \"valueTowardsCompletion\": 0.16666666666666666, \"interactionType\": 1, \"questionType\": 2, \"questionId\": \"1_RoundFunctionProblem\", \"learnToolsVersion\": \"0.3.4\", \"failureMessage\": \"\", \"exceptionClass\": \"\", \"trace\": \"\"}}, \"*\")"
      ],
      "text/plain": [
       "<IPython.core.display.Javascript object>"
      ]
     },
     "metadata": {},
     "output_type": "display_data"
    },
    {
     "data": {
      "text/markdown": [
       "<span style=\"color:#33cc33\">Correct</span>"
      ],
      "text/plain": [
       "Correct"
      ]
     },
     "metadata": {},
     "output_type": "display_data"
    }
   ],
   "source": [
    "def round_to_two_places(num):\n",
    "    \"\"\"Return the given number rounded to two decimal places. \n",
    "    \n",
    "    >>> round_to_two_places(3.14159)\n",
    "    3.14\n",
    "    \"\"\"\n",
    "    # Replace this body with your own code.\n",
    "    # (\"pass\" is a keyword that does literally nothing. We used it as a placeholder\n",
    "    # because after we begin a code block, Python requires at least one line of code)\n",
    "    return round(num, 2)\n",
    "    pass\n",
    "\n",
    "# Check your answer\n",
    "q1.check()"
   ]
  },
  {
   "cell_type": "code",
   "execution_count": 3,
   "id": "d46b9d2c",
   "metadata": {
    "execution": {
     "iopub.execute_input": "2022-12-20T03:05:55.430585Z",
     "iopub.status.busy": "2022-12-20T03:05:55.429225Z",
     "iopub.status.idle": "2022-12-20T03:05:55.442779Z",
     "shell.execute_reply": "2022-12-20T03:05:55.440722Z"
    },
    "papermill": {
     "duration": 0.023173,
     "end_time": "2022-12-20T03:05:55.445632",
     "exception": false,
     "start_time": "2022-12-20T03:05:55.422459",
     "status": "completed"
    },
    "tags": []
   },
   "outputs": [
    {
     "data": {
      "application/javascript": [
       "parent.postMessage({\"jupyterEvent\": \"custom.exercise_interaction\", \"data\": {\"interactionType\": 2, \"questionType\": 2, \"questionId\": \"1_RoundFunctionProblem\", \"learnToolsVersion\": \"0.3.4\", \"valueTowardsCompletion\": 0.0, \"failureMessage\": \"\", \"exceptionClass\": \"\", \"trace\": \"\", \"outcomeType\": 4}}, \"*\")"
      ],
      "text/plain": [
       "<IPython.core.display.Javascript object>"
      ]
     },
     "metadata": {},
     "output_type": "display_data"
    },
    {
     "data": {
      "text/markdown": [
       "<span style=\"color:#3366cc\">Hint:</span> Run `help(round)` in the console (or in a code cell) to learn more about the round function. You'll need to use the function's optional second argument."
      ],
      "text/plain": [
       "Hint: Run `help(round)` in the console (or in a code cell) to learn more about the round function. You'll need to use the function's optional second argument."
      ]
     },
     "metadata": {},
     "output_type": "display_data"
    },
    {
     "name": "stdout",
     "output_type": "stream",
     "text": [
      "Help on built-in function round in module builtins:\n",
      "\n",
      "round(number, ndigits=None)\n",
      "    Round a number to a given precision in decimal digits.\n",
      "    \n",
      "    The return value is an integer if ndigits is omitted or None.  Otherwise\n",
      "    the return value has the same type as the number.  ndigits may be negative.\n",
      "\n"
     ]
    }
   ],
   "source": [
    "# Uncomment the following for a hint\n",
    "q1.hint()\n",
    "# Or uncomment the following to peek at the solution\n",
    "#q1.solution()\n",
    "help(round)"
   ]
  },
  {
   "cell_type": "markdown",
   "id": "849aff3f",
   "metadata": {
    "papermill": {
     "duration": 0.005249,
     "end_time": "2022-12-20T03:05:55.456731",
     "exception": false,
     "start_time": "2022-12-20T03:05:55.451482",
     "status": "completed"
    },
    "tags": []
   },
   "source": [
    "# 2.\n",
    "The help for `round` says that `ndigits` (the second argument) may be negative.\n",
    "What do you think will happen when it is? Try some examples in the following cell."
   ]
  },
  {
   "cell_type": "code",
   "execution_count": 4,
   "id": "18b8607f",
   "metadata": {
    "execution": {
     "iopub.execute_input": "2022-12-20T03:05:55.469800Z",
     "iopub.status.busy": "2022-12-20T03:05:55.469066Z",
     "iopub.status.idle": "2022-12-20T03:05:55.476864Z",
     "shell.execute_reply": "2022-12-20T03:05:55.475520Z"
    },
    "papermill": {
     "duration": 0.017177,
     "end_time": "2022-12-20T03:05:55.479421",
     "exception": false,
     "start_time": "2022-12-20T03:05:55.462244",
     "status": "completed"
    },
    "tags": []
   },
   "outputs": [
    {
     "data": {
      "text/plain": [
       "1240.0"
      ]
     },
     "execution_count": 4,
     "metadata": {},
     "output_type": "execute_result"
    }
   ],
   "source": [
    "# Put your test code here\n",
    "round(1244.567, -1)"
   ]
  },
  {
   "cell_type": "markdown",
   "id": "275cac8f",
   "metadata": {
    "papermill": {
     "duration": 0.005266,
     "end_time": "2022-12-20T03:05:55.490378",
     "exception": false,
     "start_time": "2022-12-20T03:05:55.485112",
     "status": "completed"
    },
    "tags": []
   },
   "source": [
    "Can you think of a case where this would be useful?  Once you're ready, run the code cell below to see the answer and to receive credit for completing the problem."
   ]
  },
  {
   "cell_type": "code",
   "execution_count": 5,
   "id": "03a70c59",
   "metadata": {
    "execution": {
     "iopub.execute_input": "2022-12-20T03:05:55.504970Z",
     "iopub.status.busy": "2022-12-20T03:05:55.504424Z",
     "iopub.status.idle": "2022-12-20T03:05:55.512156Z",
     "shell.execute_reply": "2022-12-20T03:05:55.511303Z"
    },
    "papermill": {
     "duration": 0.018788,
     "end_time": "2022-12-20T03:05:55.514683",
     "exception": false,
     "start_time": "2022-12-20T03:05:55.495895",
     "status": "completed"
    },
    "tags": []
   },
   "outputs": [
    {
     "data": {
      "application/javascript": [
       "parent.postMessage({\"jupyterEvent\": \"custom.exercise_interaction\", \"data\": {\"interactionType\": 3, \"questionType\": 4, \"questionId\": \"2_RoundNdigitsProblem\", \"learnToolsVersion\": \"0.3.4\", \"valueTowardsCompletion\": 0.0, \"failureMessage\": \"\", \"exceptionClass\": \"\", \"trace\": \"\", \"outcomeType\": 4}}, \"*\")"
      ],
      "text/plain": [
       "<IPython.core.display.Javascript object>"
      ]
     },
     "metadata": {},
     "output_type": "display_data"
    },
    {
     "data": {
      "text/markdown": [
       "<span style=\"color:#33cc99\">Solution:</span> As you've seen, `ndigits=-1` rounds to the nearest 10, `ndigits=-2` rounds to the nearest 100 and so on. Where might this be useful? Suppose we're dealing with large numbers:\n",
       "\n",
       "> The area of Finland is 338,424 km²  \n",
       "> The area of Greenland is 2,166,086 km²\n",
       "\n",
       "We probably don't care whether it's really 338,424, or 338,425, or 338,177. All those digits of accuracy are just distracting. We can chop them off by calling `round()` with `ndigits=-3`:\n",
       "\n",
       "> The area of Finland is 338,000 km²  \n",
       "> The area of Greenland is 2,166,000 km²\n",
       "\n",
       "(We'll talk about how we would get the commas later when we talk about string formatting :))\n"
      ],
      "text/plain": [
       "Solution: As you've seen, `ndigits=-1` rounds to the nearest 10, `ndigits=-2` rounds to the nearest 100 and so on. Where might this be useful? Suppose we're dealing with large numbers:\n",
       "\n",
       "> The area of Finland is 338,424 km²  \n",
       "> The area of Greenland is 2,166,086 km²\n",
       "\n",
       "We probably don't care whether it's really 338,424, or 338,425, or 338,177. All those digits of accuracy are just distracting. We can chop them off by calling `round()` with `ndigits=-3`:\n",
       "\n",
       "> The area of Finland is 338,000 km²  \n",
       "> The area of Greenland is 2,166,000 km²\n",
       "\n",
       "(We'll talk about how we would get the commas later when we talk about string formatting :))"
      ]
     },
     "metadata": {},
     "output_type": "display_data"
    }
   ],
   "source": [
    "# Check your answer (Run this code cell to receive credit!)\n",
    "q2.solution()"
   ]
  },
  {
   "cell_type": "markdown",
   "id": "278a18a3",
   "metadata": {
    "papermill": {
     "duration": 0.005476,
     "end_time": "2022-12-20T03:05:55.526089",
     "exception": false,
     "start_time": "2022-12-20T03:05:55.520613",
     "status": "completed"
    },
    "tags": []
   },
   "source": [
    "# 3.\n",
    "\n",
    "In the previous exercise, the candy-sharing friends Alice, Bob and Carol tried to split candies evenly. For the sake of their friendship, any candies left over would be smashed. For example, if they collectively bring home 91 candies, they'll take 30 each and smash 1.\n",
    "\n",
    "Below is a simple function that will calculate the number of candies to smash for *any* number of total candies.\n",
    "\n",
    "Modify it so that it optionally takes a second argument representing the number of friends the candies are being split between. If no second argument is provided, it should assume 3 friends, as before.\n",
    "\n",
    "Update the docstring to reflect this new behaviour."
   ]
  },
  {
   "cell_type": "code",
   "execution_count": 6,
   "id": "b83c5f45",
   "metadata": {
    "execution": {
     "iopub.execute_input": "2022-12-20T03:05:55.539871Z",
     "iopub.status.busy": "2022-12-20T03:05:55.539194Z",
     "iopub.status.idle": "2022-12-20T03:05:55.549341Z",
     "shell.execute_reply": "2022-12-20T03:05:55.548143Z"
    },
    "papermill": {
     "duration": 0.020054,
     "end_time": "2022-12-20T03:05:55.551918",
     "exception": false,
     "start_time": "2022-12-20T03:05:55.531864",
     "status": "completed"
    },
    "tags": []
   },
   "outputs": [
    {
     "data": {
      "application/javascript": [
       "parent.postMessage({\"jupyterEvent\": \"custom.exercise_interaction\", \"data\": {\"outcomeType\": 1, \"valueTowardsCompletion\": 0.16666666666666666, \"interactionType\": 1, \"questionType\": 2, \"questionId\": \"3_CandySmashingFunctionProblem\", \"learnToolsVersion\": \"0.3.4\", \"failureMessage\": \"\", \"exceptionClass\": \"\", \"trace\": \"\"}}, \"*\")"
      ],
      "text/plain": [
       "<IPython.core.display.Javascript object>"
      ]
     },
     "metadata": {},
     "output_type": "display_data"
    },
    {
     "data": {
      "text/markdown": [
       "<span style=\"color:#33cc33\">Correct</span>"
      ],
      "text/plain": [
       "Correct"
      ]
     },
     "metadata": {},
     "output_type": "display_data"
    }
   ],
   "source": [
    "def to_smash(total_candies, n = 3):\n",
    "    \"\"\"Return the number of leftover candies that must be smashed after distributing\n",
    "    the given number of candies evenly between 3 friends.\n",
    "    \n",
    "    >>> to_smash(91)\n",
    "    1\n",
    "    \"\"\"\n",
    "    return total_candies % n\n",
    "\n",
    "# Check your answer\n",
    "q3.check()"
   ]
  },
  {
   "cell_type": "code",
   "execution_count": 7,
   "id": "738ff49a",
   "metadata": {
    "execution": {
     "iopub.execute_input": "2022-12-20T03:05:55.566019Z",
     "iopub.status.busy": "2022-12-20T03:05:55.565515Z",
     "iopub.status.idle": "2022-12-20T03:05:55.570494Z",
     "shell.execute_reply": "2022-12-20T03:05:55.569244Z"
    },
    "papermill": {
     "duration": 0.014765,
     "end_time": "2022-12-20T03:05:55.572807",
     "exception": false,
     "start_time": "2022-12-20T03:05:55.558042",
     "status": "completed"
    },
    "tags": []
   },
   "outputs": [],
   "source": [
    "#q3.hint()"
   ]
  },
  {
   "cell_type": "code",
   "execution_count": 8,
   "id": "025228bb",
   "metadata": {
    "execution": {
     "iopub.execute_input": "2022-12-20T03:05:55.587457Z",
     "iopub.status.busy": "2022-12-20T03:05:55.587028Z",
     "iopub.status.idle": "2022-12-20T03:05:55.591655Z",
     "shell.execute_reply": "2022-12-20T03:05:55.590325Z"
    },
    "papermill": {
     "duration": 0.015223,
     "end_time": "2022-12-20T03:05:55.594081",
     "exception": false,
     "start_time": "2022-12-20T03:05:55.578858",
     "status": "completed"
    },
    "tags": []
   },
   "outputs": [],
   "source": [
    "#q3.solution()"
   ]
  },
  {
   "cell_type": "markdown",
   "id": "291bc2f9",
   "metadata": {
    "papermill": {
     "duration": 0.005828,
     "end_time": "2022-12-20T03:05:55.606104",
     "exception": false,
     "start_time": "2022-12-20T03:05:55.600276",
     "status": "completed"
    },
    "tags": []
   },
   "source": [
    "# 4. (Optional)\n",
    "\n",
    "It may not be fun, but reading and understanding error messages will be an important part of your Python career.\n",
    "\n",
    "Each code cell below contains some commented buggy code. For each cell...\n",
    "\n",
    "1. Read the code and predict what you think will happen when it's run.\n",
    "2. Then uncomment the code and run it to see what happens. (**Tip**: In the kernel editor, you can highlight several lines and press `ctrl`+`/` to toggle commenting.)\n",
    "3. Fix the code (so that it accomplishes its intended purpose without throwing an exception)\n",
    "\n",
    "<!-- TODO: should this be autochecked? Delta is probably pretty small. -->"
   ]
  },
  {
   "cell_type": "code",
   "execution_count": 9,
   "id": "13cea2e6",
   "metadata": {
    "execution": {
     "iopub.execute_input": "2022-12-20T03:05:55.620350Z",
     "iopub.status.busy": "2022-12-20T03:05:55.619955Z",
     "iopub.status.idle": "2022-12-20T03:05:55.627745Z",
     "shell.execute_reply": "2022-12-20T03:05:55.626509Z"
    },
    "papermill": {
     "duration": 0.01799,
     "end_time": "2022-12-20T03:05:55.630263",
     "exception": false,
     "start_time": "2022-12-20T03:05:55.612273",
     "status": "completed"
    },
    "tags": []
   },
   "outputs": [
    {
     "data": {
      "text/plain": [
       "10.0"
      ]
     },
     "execution_count": 9,
     "metadata": {},
     "output_type": "execute_result"
    }
   ],
   "source": [
    "def ruound_to_two_places(n):\n",
    "    \"\"\"round number to 2 decimal places\n",
    "    >>> ruound_to_two_places(9.9999)\n",
    "    10.0\n",
    "    \"\"\"\n",
    "    return round(n, 2)\n",
    "\n",
    "ruound_to_two_places(9.9999)"
   ]
  },
  {
   "cell_type": "code",
   "execution_count": 10,
   "id": "c42e9e02",
   "metadata": {
    "execution": {
     "iopub.execute_input": "2022-12-20T03:05:55.645167Z",
     "iopub.status.busy": "2022-12-20T03:05:55.644757Z",
     "iopub.status.idle": "2022-12-20T03:05:55.651706Z",
     "shell.execute_reply": "2022-12-20T03:05:55.650208Z"
    },
    "papermill": {
     "duration": 0.01788,
     "end_time": "2022-12-20T03:05:55.654578",
     "exception": false,
     "start_time": "2022-12-20T03:05:55.636698",
     "status": "completed"
    },
    "tags": []
   },
   "outputs": [
    {
     "name": "stdout",
     "output_type": "stream",
     "text": [
      "5\n"
     ]
    }
   ],
   "source": [
    "x = -10\n",
    "y = 5\n",
    "# # Which of the two variables above has the smallest absolute value?\n",
    "smallest_abs = min(abs(x), abs(y))\n",
    "print(smallest_abs)"
   ]
  },
  {
   "cell_type": "code",
   "execution_count": 11,
   "id": "c18abc81",
   "metadata": {
    "execution": {
     "iopub.execute_input": "2022-12-20T03:05:55.669672Z",
     "iopub.status.busy": "2022-12-20T03:05:55.669214Z",
     "iopub.status.idle": "2022-12-20T03:05:55.676085Z",
     "shell.execute_reply": "2022-12-20T03:05:55.674723Z"
    },
    "papermill": {
     "duration": 0.017065,
     "end_time": "2022-12-20T03:05:55.678628",
     "exception": false,
     "start_time": "2022-12-20T03:05:55.661563",
     "status": "completed"
    },
    "tags": []
   },
   "outputs": [
    {
     "name": "stdout",
     "output_type": "stream",
     "text": [
      "5\n"
     ]
    }
   ],
   "source": [
    "def f(x):\n",
    "    y = abs(x)\n",
    "    return y\n",
    "\n",
    "print(f(5))"
   ]
  },
  {
   "cell_type": "markdown",
   "id": "9eb8ed43",
   "metadata": {
    "papermill": {
     "duration": 0.006191,
     "end_time": "2022-12-20T03:05:55.691312",
     "exception": false,
     "start_time": "2022-12-20T03:05:55.685121",
     "status": "completed"
    },
    "tags": []
   },
   "source": [
    "# Keep Going\n",
    "\n",
    "Nice job with the code. Next up, you'll learn about *conditionals*, which you'll need to **[write interesting programs](https://www.kaggle.com/colinmorris/booleans-and-conditionals)**. "
   ]
  },
  {
   "cell_type": "markdown",
   "id": "5ec829b6",
   "metadata": {
    "papermill": {
     "duration": 0.00599,
     "end_time": "2022-12-20T03:05:55.703720",
     "exception": false,
     "start_time": "2022-12-20T03:05:55.697730",
     "status": "completed"
    },
    "tags": []
   },
   "source": [
    "---\n",
    "\n",
    "\n",
    "\n",
    "\n",
    "*Have questions or comments? Visit the [course discussion forum](https://www.kaggle.com/learn/python/discussion) to chat with other learners.*"
   ]
  }
 ],
 "metadata": {
  "kernelspec": {
   "display_name": "Python 3",
   "language": "python",
   "name": "python3"
  },
  "language_info": {
   "codemirror_mode": {
    "name": "ipython",
    "version": 3
   },
   "file_extension": ".py",
   "mimetype": "text/x-python",
   "name": "python",
   "nbconvert_exporter": "python",
   "pygments_lexer": "ipython3",
   "version": "3.7.12"
  },
  "papermill": {
   "default_parameters": {},
   "duration": 10.929298,
   "end_time": "2022-12-20T03:05:56.438024",
   "environment_variables": {},
   "exception": null,
   "input_path": "__notebook__.ipynb",
   "output_path": "__notebook__.ipynb",
   "parameters": {},
   "start_time": "2022-12-20T03:05:45.508726",
   "version": "2.3.4"
  }
 },
 "nbformat": 4,
 "nbformat_minor": 5
}
