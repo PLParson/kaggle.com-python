{
 "cells": [
  {
   "cell_type": "markdown",
   "id": "bb377c75",
   "metadata": {
    "papermill": {
     "duration": 0.006603,
     "end_time": "2022-12-20T17:06:40.751403",
     "exception": false,
     "start_time": "2022-12-20T17:06:40.744800",
     "status": "completed"
    },
    "tags": []
   },
   "source": [
    "**This notebook is an exercise in the [Python](https://www.kaggle.com/learn/python) course.  You can reference the tutorial at [this link](https://www.kaggle.com/colinmorris/lists).**\n",
    "\n",
    "---\n"
   ]
  },
  {
   "cell_type": "markdown",
   "id": "bcf67adf",
   "metadata": {
    "papermill": {
     "duration": 0.004673,
     "end_time": "2022-12-20T17:06:40.761803",
     "exception": false,
     "start_time": "2022-12-20T17:06:40.757130",
     "status": "completed"
    },
    "tags": []
   },
   "source": [
    "Things get more interesting with lists. You'll apply your new knowledge to solve the questions below. Remember to run the following cell first."
   ]
  },
  {
   "cell_type": "code",
   "execution_count": 1,
   "id": "1b03be8a",
   "metadata": {
    "execution": {
     "iopub.execute_input": "2022-12-20T17:06:40.774278Z",
     "iopub.status.busy": "2022-12-20T17:06:40.773427Z",
     "iopub.status.idle": "2022-12-20T17:06:40.842894Z",
     "shell.execute_reply": "2022-12-20T17:06:40.841591Z"
    },
    "papermill": {
     "duration": 0.079141,
     "end_time": "2022-12-20T17:06:40.845916",
     "exception": false,
     "start_time": "2022-12-20T17:06:40.766775",
     "status": "completed"
    },
    "tags": []
   },
   "outputs": [
    {
     "name": "stdout",
     "output_type": "stream",
     "text": [
      "Setup complete.\n"
     ]
    }
   ],
   "source": [
    "from learntools.core import binder; binder.bind(globals())\n",
    "from learntools.python.ex4 import *\n",
    "print('Setup complete.')"
   ]
  },
  {
   "cell_type": "markdown",
   "id": "a26a4b6c",
   "metadata": {
    "papermill": {
     "duration": 0.005417,
     "end_time": "2022-12-20T17:06:40.856764",
     "exception": false,
     "start_time": "2022-12-20T17:06:40.851347",
     "status": "completed"
    },
    "tags": []
   },
   "source": [
    "# 1.\n",
    "\n",
    "Complete the function below according to its docstring."
   ]
  },
  {
   "cell_type": "code",
   "execution_count": 2,
   "id": "3b63ec3a",
   "metadata": {
    "execution": {
     "iopub.execute_input": "2022-12-20T17:06:40.869380Z",
     "iopub.status.busy": "2022-12-20T17:06:40.868911Z",
     "iopub.status.idle": "2022-12-20T17:06:40.883923Z",
     "shell.execute_reply": "2022-12-20T17:06:40.882539Z"
    },
    "papermill": {
     "duration": 0.024197,
     "end_time": "2022-12-20T17:06:40.886345",
     "exception": false,
     "start_time": "2022-12-20T17:06:40.862148",
     "status": "completed"
    },
    "tags": []
   },
   "outputs": [
    {
     "data": {
      "application/javascript": [
       "parent.postMessage({\"jupyterEvent\": \"custom.exercise_interaction\", \"data\": {\"outcomeType\": 1, \"valueTowardsCompletion\": 0.2, \"interactionType\": 1, \"questionType\": 2, \"questionId\": \"1_SelectSecondItem\", \"learnToolsVersion\": \"0.3.4\", \"failureMessage\": \"\", \"exceptionClass\": \"\", \"trace\": \"\"}}, \"*\")"
      ],
      "text/plain": [
       "<IPython.core.display.Javascript object>"
      ]
     },
     "metadata": {},
     "output_type": "display_data"
    },
    {
     "data": {
      "text/markdown": [
       "<span style=\"color:#33cc33\">Correct</span>"
      ],
      "text/plain": [
       "Correct"
      ]
     },
     "metadata": {},
     "output_type": "display_data"
    }
   ],
   "source": [
    "def select_second(L):\n",
    "    \"\"\"Return the second element of the given list. If the list has no second\n",
    "    element, return None.\n",
    "    \"\"\"\n",
    "    pass\n",
    "    return None if len(L) < 2 else L[1]\n",
    "\n",
    "# Check your answer\n",
    "q1.check()"
   ]
  },
  {
   "cell_type": "code",
   "execution_count": 3,
   "id": "505a3b65",
   "metadata": {
    "execution": {
     "iopub.execute_input": "2022-12-20T17:06:40.900931Z",
     "iopub.status.busy": "2022-12-20T17:06:40.900526Z",
     "iopub.status.idle": "2022-12-20T17:06:40.905384Z",
     "shell.execute_reply": "2022-12-20T17:06:40.904164Z"
    },
    "papermill": {
     "duration": 0.015544,
     "end_time": "2022-12-20T17:06:40.908010",
     "exception": false,
     "start_time": "2022-12-20T17:06:40.892466",
     "status": "completed"
    },
    "tags": []
   },
   "outputs": [],
   "source": [
    "# q1.hint()\n",
    "# q1.solution()"
   ]
  },
  {
   "cell_type": "markdown",
   "id": "4d7833dd",
   "metadata": {
    "papermill": {
     "duration": 0.00487,
     "end_time": "2022-12-20T17:06:40.918258",
     "exception": false,
     "start_time": "2022-12-20T17:06:40.913388",
     "status": "completed"
    },
    "tags": []
   },
   "source": [
    "# 2.\n",
    "\n",
    "You are analyzing sports teams.  Members of each team are stored in a list. The Coach is the first name in the list, the captain is the second name in the list, and other players are listed after that. \n",
    "These lists are stored in another list, which starts with the best team and proceeds through the list to the worst team last.  Complete the function below to select the **captain** of the worst team."
   ]
  },
  {
   "cell_type": "code",
   "execution_count": 4,
   "id": "3db1ca9a",
   "metadata": {
    "execution": {
     "iopub.execute_input": "2022-12-20T17:06:40.930682Z",
     "iopub.status.busy": "2022-12-20T17:06:40.930003Z",
     "iopub.status.idle": "2022-12-20T17:06:40.941301Z",
     "shell.execute_reply": "2022-12-20T17:06:40.940044Z"
    },
    "papermill": {
     "duration": 0.020268,
     "end_time": "2022-12-20T17:06:40.943733",
     "exception": false,
     "start_time": "2022-12-20T17:06:40.923465",
     "status": "completed"
    },
    "tags": []
   },
   "outputs": [
    {
     "data": {
      "application/javascript": [
       "parent.postMessage({\"jupyterEvent\": \"custom.exercise_interaction\", \"data\": {\"outcomeType\": 1, \"valueTowardsCompletion\": 0.2, \"interactionType\": 1, \"questionType\": 2, \"questionId\": \"2_LosingTeamCaptain\", \"learnToolsVersion\": \"0.3.4\", \"failureMessage\": \"\", \"exceptionClass\": \"\", \"trace\": \"\"}}, \"*\")"
      ],
      "text/plain": [
       "<IPython.core.display.Javascript object>"
      ]
     },
     "metadata": {},
     "output_type": "display_data"
    },
    {
     "data": {
      "text/markdown": [
       "<span style=\"color:#33cc33\">Correct</span>"
      ],
      "text/plain": [
       "Correct"
      ]
     },
     "metadata": {},
     "output_type": "display_data"
    }
   ],
   "source": [
    "def losing_team_captain(teams):\n",
    "    \"\"\"Given a list of teams, where each team is a list of names, return the 2nd player (captain)\n",
    "    from the last listed team\n",
    "    \"\"\"\n",
    "    pass\n",
    "    return teams[-1][1]\n",
    "\n",
    "# Check your answer\n",
    "q2.check()"
   ]
  },
  {
   "cell_type": "code",
   "execution_count": 5,
   "id": "e5cd3d12",
   "metadata": {
    "execution": {
     "iopub.execute_input": "2022-12-20T17:06:40.960258Z",
     "iopub.status.busy": "2022-12-20T17:06:40.959598Z",
     "iopub.status.idle": "2022-12-20T17:06:40.965963Z",
     "shell.execute_reply": "2022-12-20T17:06:40.964527Z"
    },
    "papermill": {
     "duration": 0.018152,
     "end_time": "2022-12-20T17:06:40.968745",
     "exception": false,
     "start_time": "2022-12-20T17:06:40.950593",
     "status": "completed"
    },
    "tags": []
   },
   "outputs": [],
   "source": [
    "# q2.hint()\n",
    "# q2.solution()"
   ]
  },
  {
   "cell_type": "markdown",
   "id": "3a2db351",
   "metadata": {
    "papermill": {
     "duration": 0.005669,
     "end_time": "2022-12-20T17:06:40.980357",
     "exception": false,
     "start_time": "2022-12-20T17:06:40.974688",
     "status": "completed"
    },
    "tags": []
   },
   "source": [
    "# 3.\n",
    "\n",
    "The next iteration of Mario Kart will feature an extra-infuriating new item, the *Purple Shell*. When used, it warps the last place racer into first place and the first place racer into last place. Complete the function below to implement the Purple Shell's effect."
   ]
  },
  {
   "cell_type": "code",
   "execution_count": 6,
   "id": "0e40eeea",
   "metadata": {
    "execution": {
     "iopub.execute_input": "2022-12-20T17:06:40.994780Z",
     "iopub.status.busy": "2022-12-20T17:06:40.993888Z",
     "iopub.status.idle": "2022-12-20T17:06:41.006287Z",
     "shell.execute_reply": "2022-12-20T17:06:41.004901Z"
    },
    "papermill": {
     "duration": 0.024012,
     "end_time": "2022-12-20T17:06:41.009829",
     "exception": false,
     "start_time": "2022-12-20T17:06:40.985817",
     "status": "completed"
    },
    "tags": []
   },
   "outputs": [
    {
     "data": {
      "application/javascript": [
       "parent.postMessage({\"jupyterEvent\": \"custom.exercise_interaction\", \"data\": {\"outcomeType\": 1, \"valueTowardsCompletion\": 0.2, \"interactionType\": 1, \"questionType\": 2, \"questionId\": \"3_PurpleShell\", \"learnToolsVersion\": \"0.3.4\", \"failureMessage\": \"\", \"exceptionClass\": \"\", \"trace\": \"\"}}, \"*\")"
      ],
      "text/plain": [
       "<IPython.core.display.Javascript object>"
      ]
     },
     "metadata": {},
     "output_type": "display_data"
    },
    {
     "data": {
      "text/markdown": [
       "<span style=\"color:#33cc33\">Correct</span>"
      ],
      "text/plain": [
       "Correct"
      ]
     },
     "metadata": {},
     "output_type": "display_data"
    }
   ],
   "source": [
    "def purple_shell(racers):\n",
    "    \"\"\"Given a list of racers, set the first place racer (at the front of the list) to last\n",
    "    place and vice versa.\n",
    "    \n",
    "    >>> r = [\"Mario\", \"Bowser\", \"Luigi\"]\n",
    "    >>> purple_shell(r)\n",
    "    >>> r\n",
    "    [\"Luigi\", \"Bowser\", \"Mario\"]\n",
    "    \"\"\"\n",
    "    pass\n",
    "    racers[0], racers[-1] = racers[-1], racers[0]\n",
    "\n",
    "# Check your answer\n",
    "q3.check()"
   ]
  },
  {
   "cell_type": "code",
   "execution_count": 7,
   "id": "db8bd4a2",
   "metadata": {
    "collapsed": true,
    "execution": {
     "iopub.execute_input": "2022-12-20T17:06:41.024006Z",
     "iopub.status.busy": "2022-12-20T17:06:41.023583Z",
     "iopub.status.idle": "2022-12-20T17:06:41.028583Z",
     "shell.execute_reply": "2022-12-20T17:06:41.027437Z"
    },
    "jupyter": {
     "outputs_hidden": true
    },
    "papermill": {
     "duration": 0.014576,
     "end_time": "2022-12-20T17:06:41.031011",
     "exception": false,
     "start_time": "2022-12-20T17:06:41.016435",
     "status": "completed"
    },
    "tags": []
   },
   "outputs": [],
   "source": [
    "#q3.hint()\n",
    "#q3.solution()"
   ]
  },
  {
   "cell_type": "markdown",
   "id": "4288f80b",
   "metadata": {
    "papermill": {
     "duration": 0.006199,
     "end_time": "2022-12-20T17:06:41.043368",
     "exception": false,
     "start_time": "2022-12-20T17:06:41.037169",
     "status": "completed"
    },
    "tags": []
   },
   "source": [
    "# 4.\n",
    "\n",
    "What are the lengths of the following lists? Fill in the variable `lengths` with your predictions. (Try to make a prediction for each list *without* just calling `len()` on it.)"
   ]
  },
  {
   "cell_type": "code",
   "execution_count": 8,
   "id": "4ce85c1a",
   "metadata": {
    "execution": {
     "iopub.execute_input": "2022-12-20T17:06:41.058072Z",
     "iopub.status.busy": "2022-12-20T17:06:41.056939Z",
     "iopub.status.idle": "2022-12-20T17:06:41.067289Z",
     "shell.execute_reply": "2022-12-20T17:06:41.066343Z"
    },
    "papermill": {
     "duration": 0.020445,
     "end_time": "2022-12-20T17:06:41.069490",
     "exception": false,
     "start_time": "2022-12-20T17:06:41.049045",
     "status": "completed"
    },
    "tags": []
   },
   "outputs": [
    {
     "data": {
      "application/javascript": [
       "parent.postMessage({\"jupyterEvent\": \"custom.exercise_interaction\", \"data\": {\"outcomeType\": 1, \"valueTowardsCompletion\": 0.2, \"interactionType\": 1, \"questionType\": 1, \"questionId\": \"4_UnderstandLen\", \"learnToolsVersion\": \"0.3.4\", \"failureMessage\": \"\", \"exceptionClass\": \"\", \"trace\": \"\"}}, \"*\")"
      ],
      "text/plain": [
       "<IPython.core.display.Javascript object>"
      ]
     },
     "metadata": {},
     "output_type": "display_data"
    },
    {
     "data": {
      "text/markdown": [
       "<span style=\"color:#33cc33\">Correct:</span> \n",
       "\n",
       "\n",
       "- a: There are three items in this list. Nothing tricky yet.\n",
       "- b: The list `[2, 3]` counts as a single item. It has one item before it. So we have 2 items in the list\n",
       "- c: The empty list has 0 items\n",
       "- d: The expression is the same as the list `[2, 3]`, which has length 2."
      ],
      "text/plain": [
       "Correct: \n",
       "\n",
       "\n",
       "- a: There are three items in this list. Nothing tricky yet.\n",
       "- b: The list `[2, 3]` counts as a single item. It has one item before it. So we have 2 items in the list\n",
       "- c: The empty list has 0 items\n",
       "- d: The expression is the same as the list `[2, 3]`, which has length 2."
      ]
     },
     "metadata": {},
     "output_type": "display_data"
    }
   ],
   "source": [
    "a = [1, 2, 3]\n",
    "b = [1, [2, 3]]\n",
    "c = []\n",
    "d = [1, 2, 3][1:]\n",
    "\n",
    "# Put your predictions in the list below. Lengths should contain 4 numbers, the\n",
    "# first being the length of a, the second being the length of b and so on.\n",
    "lengths = [3, 2, 0, 2]\n",
    "\n",
    "# Check your answer\n",
    "q4.check()"
   ]
  },
  {
   "cell_type": "code",
   "execution_count": 9,
   "id": "9a25c9a7",
   "metadata": {
    "execution": {
     "iopub.execute_input": "2022-12-20T17:06:41.084923Z",
     "iopub.status.busy": "2022-12-20T17:06:41.084261Z",
     "iopub.status.idle": "2022-12-20T17:06:41.088616Z",
     "shell.execute_reply": "2022-12-20T17:06:41.087772Z"
    },
    "papermill": {
     "duration": 0.015401,
     "end_time": "2022-12-20T17:06:41.091427",
     "exception": false,
     "start_time": "2022-12-20T17:06:41.076026",
     "status": "completed"
    },
    "tags": []
   },
   "outputs": [],
   "source": [
    "# line below provides some explanation\n",
    "# q4.solution()"
   ]
  },
  {
   "cell_type": "markdown",
   "id": "9a97b54e",
   "metadata": {
    "papermill": {
     "duration": 0.005779,
     "end_time": "2022-12-20T17:06:41.103680",
     "exception": false,
     "start_time": "2022-12-20T17:06:41.097901",
     "status": "completed"
    },
    "tags": []
   },
   "source": [
    "# 5. <span title=\"A bit spicy\" style=\"color: darkgreen \">🌶️</span>\n",
    "\n",
    "We're using lists to record people who attended our party and what order they arrived in. For example, the following list represents a party with 7 guests, in which Adela showed up first and Ford was the last to arrive:\n",
    "\n",
    "    party_attendees = ['Adela', 'Fleda', 'Owen', 'May', 'Mona', 'Gilbert', 'Ford']\n",
    "\n",
    "A guest is considered 'fashionably late' if they arrived after at least half of the party's guests. However, they must not be the very last guest (that's taking it too far). In the above example, Mona and Gilbert are the only guests who were fashionably late.\n",
    "\n",
    "Complete the function below which takes a list of party attendees as well as a person, and tells us whether that person is fashionably late."
   ]
  },
  {
   "cell_type": "code",
   "execution_count": 10,
   "id": "c5ee415a",
   "metadata": {
    "execution": {
     "iopub.execute_input": "2022-12-20T17:06:41.120562Z",
     "iopub.status.busy": "2022-12-20T17:06:41.119874Z",
     "iopub.status.idle": "2022-12-20T17:06:41.131015Z",
     "shell.execute_reply": "2022-12-20T17:06:41.129352Z"
    },
    "papermill": {
     "duration": 0.023935,
     "end_time": "2022-12-20T17:06:41.133837",
     "exception": false,
     "start_time": "2022-12-20T17:06:41.109902",
     "status": "completed"
    },
    "tags": []
   },
   "outputs": [
    {
     "data": {
      "application/javascript": [
       "parent.postMessage({\"jupyterEvent\": \"custom.exercise_interaction\", \"data\": {\"outcomeType\": 1, \"valueTowardsCompletion\": 0.2, \"interactionType\": 1, \"questionType\": 2, \"questionId\": \"5_FashionablyLate\", \"learnToolsVersion\": \"0.3.4\", \"failureMessage\": \"\", \"exceptionClass\": \"\", \"trace\": \"\"}}, \"*\")"
      ],
      "text/plain": [
       "<IPython.core.display.Javascript object>"
      ]
     },
     "metadata": {},
     "output_type": "display_data"
    },
    {
     "data": {
      "text/markdown": [
       "<span style=\"color:#33cc33\">Correct</span>"
      ],
      "text/plain": [
       "Correct"
      ]
     },
     "metadata": {},
     "output_type": "display_data"
    }
   ],
   "source": [
    "def fashionably_late(arrivals, name):\n",
    "    \"\"\"Given an ordered list of arrivals to the party and a name, return whether the guest with that\n",
    "    name was fashionably late.\n",
    "    \"\"\"\n",
    "    pass\n",
    "    return arrivals.index(name) >= (len(arrivals)/2) and not name == arrivals[-1]\n",
    "\n",
    "# Check your answer\n",
    "q5.check()"
   ]
  },
  {
   "cell_type": "code",
   "execution_count": 11,
   "id": "5eb2d29c",
   "metadata": {
    "collapsed": true,
    "execution": {
     "iopub.execute_input": "2022-12-20T17:06:41.149936Z",
     "iopub.status.busy": "2022-12-20T17:06:41.149300Z",
     "iopub.status.idle": "2022-12-20T17:06:41.154216Z",
     "shell.execute_reply": "2022-12-20T17:06:41.153381Z"
    },
    "jupyter": {
     "outputs_hidden": true
    },
    "papermill": {
     "duration": 0.015938,
     "end_time": "2022-12-20T17:06:41.156881",
     "exception": false,
     "start_time": "2022-12-20T17:06:41.140943",
     "status": "completed"
    },
    "tags": []
   },
   "outputs": [],
   "source": [
    "#q5.hint()\n",
    "#q5.solution()"
   ]
  },
  {
   "cell_type": "markdown",
   "id": "e219d366",
   "metadata": {
    "papermill": {
     "duration": 0.006365,
     "end_time": "2022-12-20T17:06:41.170210",
     "exception": false,
     "start_time": "2022-12-20T17:06:41.163845",
     "status": "completed"
    },
    "tags": []
   },
   "source": [
    "# Keep Going\n",
    "\n",
    "That's it for lists and tuples! Now you have the baseline knowledge to **[learn about loops](https://www.kaggle.com/colinmorris/loops-and-list-comprehensions)**, which is where lists and tuples get really interesting. "
   ]
  },
  {
   "cell_type": "markdown",
   "id": "8272019b",
   "metadata": {
    "papermill": {
     "duration": 0.006022,
     "end_time": "2022-12-20T17:06:41.184874",
     "exception": false,
     "start_time": "2022-12-20T17:06:41.178852",
     "status": "completed"
    },
    "tags": []
   },
   "source": [
    "---\n",
    "\n",
    "\n",
    "\n",
    "\n",
    "*Have questions or comments? Visit the [course discussion forum](https://www.kaggle.com/learn/python/discussion) to chat with other learners.*"
   ]
  }
 ],
 "metadata": {
  "kernelspec": {
   "display_name": "Python 3",
   "language": "python",
   "name": "python3"
  },
  "language_info": {
   "codemirror_mode": {
    "name": "ipython",
    "version": 3
   },
   "file_extension": ".py",
   "mimetype": "text/x-python",
   "name": "python",
   "nbconvert_exporter": "python",
   "pygments_lexer": "ipython3",
   "version": "3.7.12"
  },
  "papermill": {
   "default_parameters": {},
   "duration": 10.503865,
   "end_time": "2022-12-20T17:06:41.914775",
   "environment_variables": {},
   "exception": null,
   "input_path": "__notebook__.ipynb",
   "output_path": "__notebook__.ipynb",
   "parameters": {},
   "start_time": "2022-12-20T17:06:31.410910",
   "version": "2.3.4"
  }
 },
 "nbformat": 4,
 "nbformat_minor": 5
}
