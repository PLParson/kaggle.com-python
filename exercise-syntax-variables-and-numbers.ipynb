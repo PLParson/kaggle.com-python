{
 "cells": [
  {
   "cell_type": "markdown",
   "id": "aad6ad4b",
   "metadata": {
    "papermill": {
     "duration": 0.009175,
     "end_time": "2022-12-20T03:03:37.887425",
     "exception": false,
     "start_time": "2022-12-20T03:03:37.878250",
     "status": "completed"
    },
    "tags": []
   },
   "source": [
    "**This notebook is an exercise in the [Python](https://www.kaggle.com/learn/python) course.  You can reference the tutorial at [this link](https://www.kaggle.com/colinmorris/hello-python).**\n",
    "\n",
    "---\n"
   ]
  },
  {
   "cell_type": "markdown",
   "id": "3ebf16a3",
   "metadata": {
    "papermill": {
     "duration": 0.007807,
     "end_time": "2022-12-20T03:03:37.904074",
     "exception": false,
     "start_time": "2022-12-20T03:03:37.896267",
     "status": "completed"
    },
    "tags": []
   },
   "source": [
    "Welcome to your first set of Python coding problems.  If this is your first time using Kaggle Notebooks, welcome! \n",
    "\n",
    "Notebooks are composed of blocks (called \"cells\") of text and code. Each of these is editable, though you'll mainly be editing the code cells to answer some questions.\n",
    "\n",
    "To get started, try running the code cell below (by pressing the ► button, or clicking on the cell and pressing ctrl+enter on your keyboard)."
   ]
  },
  {
   "cell_type": "code",
   "execution_count": null,
   "id": "e369676b",
   "metadata": {
    "papermill": {
     "duration": 0.008958,
     "end_time": "2022-12-20T03:03:37.925145",
     "exception": false,
     "start_time": "2022-12-20T03:03:37.916187",
     "status": "completed"
    },
    "tags": []
   },
   "outputs": [],
   "source": []
  },
  {
   "cell_type": "code",
   "execution_count": null,
   "id": "cabb7fcc",
   "metadata": {
    "papermill": {
     "duration": 0.009478,
     "end_time": "2022-12-20T03:03:37.943940",
     "exception": false,
     "start_time": "2022-12-20T03:03:37.934462",
     "status": "completed"
    },
    "tags": []
   },
   "outputs": [],
   "source": []
  },
  {
   "cell_type": "code",
   "execution_count": 1,
   "id": "ea6af063",
   "metadata": {
    "execution": {
     "iopub.execute_input": "2022-12-20T03:03:37.964817Z",
     "iopub.status.busy": "2022-12-20T03:03:37.963622Z",
     "iopub.status.idle": "2022-12-20T03:03:37.980067Z",
     "shell.execute_reply": "2022-12-20T03:03:37.978300Z"
    },
    "papermill": {
     "duration": 0.031849,
     "end_time": "2022-12-20T03:03:37.984542",
     "exception": false,
     "start_time": "2022-12-20T03:03:37.952693",
     "status": "completed"
    },
    "tags": []
   },
   "outputs": [
    {
     "name": "stdout",
     "output_type": "stream",
     "text": [
      "You've successfully run some Python code\n",
      "Congratulations!\n",
      "Pierre is the man\n"
     ]
    }
   ],
   "source": [
    "print(\"You've successfully run some Python code\")\n",
    "print(\"Congratulations!\")\n",
    "print(\"Pierre is the man\")"
   ]
  },
  {
   "cell_type": "code",
   "execution_count": null,
   "id": "ad46512a",
   "metadata": {
    "papermill": {
     "duration": 0.012946,
     "end_time": "2022-12-20T03:03:38.007227",
     "exception": false,
     "start_time": "2022-12-20T03:03:37.994281",
     "status": "completed"
    },
    "tags": []
   },
   "outputs": [],
   "source": []
  },
  {
   "cell_type": "markdown",
   "id": "e8fc5cff",
   "metadata": {
    "papermill": {
     "duration": 0.007908,
     "end_time": "2022-12-20T03:03:38.022977",
     "exception": false,
     "start_time": "2022-12-20T03:03:38.015069",
     "status": "completed"
    },
    "tags": []
   },
   "source": [
    "Try adding another line of code in the cell above and re-running it. \n",
    "\n",
    "Now let's get a little fancier:  Add a new code cell by clicking on an existing code cell, hitting the escape key, and then hitting the `a` or `b` key.  The `a` key will add a cell above the current cell, and `b` adds a cell below.\n",
    "\n",
    "Great! Now you know how to use Notebooks.\n",
    "\n",
    "Each hands-on exercise starts by setting up our feedback and code checking mechanism. Run the code cell below to do that. Then you'll be ready to move on to question 0."
   ]
  },
  {
   "cell_type": "code",
   "execution_count": 2,
   "id": "6c773d30",
   "metadata": {
    "_kg_hide-input": true,
    "_kg_hide-output": true,
    "execution": {
     "iopub.execute_input": "2022-12-20T03:03:38.041045Z",
     "iopub.status.busy": "2022-12-20T03:03:38.040178Z",
     "iopub.status.idle": "2022-12-20T03:03:38.100952Z",
     "shell.execute_reply": "2022-12-20T03:03:38.099513Z"
    },
    "papermill": {
     "duration": 0.074017,
     "end_time": "2022-12-20T03:03:38.104621",
     "exception": false,
     "start_time": "2022-12-20T03:03:38.030604",
     "status": "completed"
    },
    "tags": []
   },
   "outputs": [
    {
     "name": "stdout",
     "output_type": "stream",
     "text": [
      "Setup complete! You're ready to start question 0.\n"
     ]
    }
   ],
   "source": [
    "from learntools.core import binder; binder.bind(globals())\n",
    "from learntools.python.ex1 import *\n",
    "print(\"Setup complete! You're ready to start question 0.\")"
   ]
  },
  {
   "cell_type": "markdown",
   "id": "526f389e",
   "metadata": {
    "papermill": {
     "duration": 0.0075,
     "end_time": "2022-12-20T03:03:38.121184",
     "exception": false,
     "start_time": "2022-12-20T03:03:38.113684",
     "status": "completed"
    },
    "tags": []
   },
   "source": [
    "# 0.\n",
    "\n",
    "*This is a silly question intended as an introduction to the format we use for hands-on exercises throughout all Kaggle courses.*\n",
    "\n",
    "**What is your favorite color? **\n",
    "\n",
    "To complete this question, create a variable called `color` in the cell below with an appropriate value. The function call `q0.check()` (which we've already provided in the cell below) will check your answer."
   ]
  },
  {
   "cell_type": "code",
   "execution_count": 3,
   "id": "3f49e76c",
   "metadata": {
    "execution": {
     "iopub.execute_input": "2022-12-20T03:03:38.139087Z",
     "iopub.status.busy": "2022-12-20T03:03:38.138284Z",
     "iopub.status.idle": "2022-12-20T03:03:38.148803Z",
     "shell.execute_reply": "2022-12-20T03:03:38.147915Z"
    },
    "papermill": {
     "duration": 0.022101,
     "end_time": "2022-12-20T03:03:38.151020",
     "exception": false,
     "start_time": "2022-12-20T03:03:38.128919",
     "status": "completed"
    },
    "tags": []
   },
   "outputs": [
    {
     "data": {
      "application/javascript": [
       "parent.postMessage({\"jupyterEvent\": \"custom.exercise_interaction\", \"data\": {\"outcomeType\": 1, \"valueTowardsCompletion\": 0.25, \"interactionType\": 1, \"questionType\": 2, \"questionId\": \"0_ExerciseFormatTutorial\", \"learnToolsVersion\": \"0.3.4\", \"failureMessage\": \"\", \"exceptionClass\": \"\", \"trace\": \"\"}}, \"*\")"
      ],
      "text/plain": [
       "<IPython.core.display.Javascript object>"
      ]
     },
     "metadata": {},
     "output_type": "display_data"
    },
    {
     "data": {
      "text/markdown": [
       "<span style=\"color:#33cc33\">Correct:</span> What?! You got it right without needing a hint or anything? Drats. Well hey, you should still continue to the next step to get some practice asking for a hint and checking solutions. (Even though you obviously don't need any help here.)"
      ],
      "text/plain": [
       "Correct: What?! You got it right without needing a hint or anything? Drats. Well hey, you should still continue to the next step to get some practice asking for a hint and checking solutions. (Even though you obviously don't need any help here.)"
      ]
     },
     "metadata": {},
     "output_type": "display_data"
    }
   ],
   "source": [
    "# create a variable called color with an appropriate value on the line below\n",
    "color = \"blue\"\n",
    "# (Remember, strings in Python must be enclosed in 'single' or \"double\" quotes)\n",
    "____\n",
    "\n",
    "# Check your answer\n",
    "q0.check()"
   ]
  },
  {
   "cell_type": "markdown",
   "id": "d3ed0cb0",
   "metadata": {
    "papermill": {
     "duration": 0.008131,
     "end_time": "2022-12-20T03:03:38.167273",
     "exception": false,
     "start_time": "2022-12-20T03:03:38.159142",
     "status": "completed"
    },
    "tags": []
   },
   "source": [
    "Didn't get the right answer? How do you not even know your own favorite color?!\n",
    "\n",
    "Delete the `#` in the line below to make one of the lines run. You can choose between getting a hint or the full answer by choosing which line to remove the `#` from. \n",
    "\n",
    "Removing the `#` is called uncommenting, because it changes that line from a \"comment\" which Python doesn't run to code, which Python does run."
   ]
  },
  {
   "cell_type": "code",
   "execution_count": 4,
   "id": "43aeee14",
   "metadata": {
    "execution": {
     "iopub.execute_input": "2022-12-20T03:03:38.186256Z",
     "iopub.status.busy": "2022-12-20T03:03:38.185715Z",
     "iopub.status.idle": "2022-12-20T03:03:38.193293Z",
     "shell.execute_reply": "2022-12-20T03:03:38.192384Z"
    },
    "papermill": {
     "duration": 0.020366,
     "end_time": "2022-12-20T03:03:38.195812",
     "exception": false,
     "start_time": "2022-12-20T03:03:38.175446",
     "status": "completed"
    },
    "tags": []
   },
   "outputs": [
    {
     "data": {
      "application/javascript": [
       "parent.postMessage({\"jupyterEvent\": \"custom.exercise_interaction\", \"data\": {\"interactionType\": 2, \"questionType\": 2, \"questionId\": \"0_ExerciseFormatTutorial\", \"learnToolsVersion\": \"0.3.4\", \"valueTowardsCompletion\": 0.0, \"failureMessage\": \"\", \"exceptionClass\": \"\", \"trace\": \"\", \"outcomeType\": 4}}, \"*\")"
      ],
      "text/plain": [
       "<IPython.core.display.Javascript object>"
      ]
     },
     "metadata": {},
     "output_type": "display_data"
    },
    {
     "data": {
      "text/markdown": [
       "<span style=\"color:#3366cc\">Hint:</span> Your favorite color rhymes with *glue*."
      ],
      "text/plain": [
       "Hint: Your favorite color rhymes with *glue*."
      ]
     },
     "metadata": {},
     "output_type": "display_data"
    }
   ],
   "source": [
    "q0.hint()\n",
    "#q0.solution()"
   ]
  },
  {
   "cell_type": "markdown",
   "id": "6ae32491",
   "metadata": {
    "papermill": {
     "duration": 0.007854,
     "end_time": "2022-12-20T03:03:38.211903",
     "exception": false,
     "start_time": "2022-12-20T03:03:38.204049",
     "status": "completed"
    },
    "tags": []
   },
   "source": [
    "The upcoming questions work the same way. The only thing that will change are the question numbers. For the next question, you'll call `q1.check()`, `q1.hint()`, `q1.solution()`, for question 2, you'll call `q2.check()`, and so on."
   ]
  },
  {
   "cell_type": "markdown",
   "id": "d40d0a6d",
   "metadata": {
    "papermill": {
     "duration": 0.007975,
     "end_time": "2022-12-20T03:03:38.228743",
     "exception": false,
     "start_time": "2022-12-20T03:03:38.220768",
     "status": "completed"
    },
    "tags": []
   },
   "source": [
    "<hr/>\n",
    "\n",
    "# 1.\n",
    "\n",
    "Complete the code below. In case it's helpful, here is the table of available arithmetic operations:\n",
    "\n",
    "\n",
    "\n",
    "| Operator     | Name           | Description                                            |\n",
    "|--------------|----------------|--------------------------------------------------------|\n",
    "| ``a + b``    | Addition       | Sum of ``a`` and ``b``                                 |\n",
    "| ``a - b``    | Subtraction    | Difference of ``a`` and ``b``                          |\n",
    "| ``a * b``    | Multiplication | Product of ``a`` and ``b``                             |\n",
    "| ``a / b``    | True division  | Quotient of ``a`` and ``b``                            |\n",
    "| ``a // b``   | Floor division | Quotient of ``a`` and ``b``, removing fractional parts |\n",
    "| ``a % b``    | Modulus        | Integer remainder after division of ``a`` by ``b``     |\n",
    "| ``a ** b``   | Exponentiation | ``a`` raised to the power of ``b``                     |\n",
    "| ``-a``       | Negation       | The negative of ``a``                                  |\n",
    "\n",
    "<span style=\"display:none\"></span>\n"
   ]
  },
  {
   "cell_type": "code",
   "execution_count": 5,
   "id": "fa4011eb",
   "metadata": {
    "execution": {
     "iopub.execute_input": "2022-12-20T03:03:38.248450Z",
     "iopub.status.busy": "2022-12-20T03:03:38.247212Z",
     "iopub.status.idle": "2022-12-20T03:03:38.256847Z",
     "shell.execute_reply": "2022-12-20T03:03:38.255733Z"
    },
    "papermill": {
     "duration": 0.021999,
     "end_time": "2022-12-20T03:03:38.259193",
     "exception": false,
     "start_time": "2022-12-20T03:03:38.237194",
     "status": "completed"
    },
    "tags": []
   },
   "outputs": [
    {
     "data": {
      "application/javascript": [
       "parent.postMessage({\"jupyterEvent\": \"custom.exercise_interaction\", \"data\": {\"outcomeType\": 1, \"valueTowardsCompletion\": 0.25, \"interactionType\": 1, \"questionType\": 1, \"questionId\": \"1_CircleArea\", \"learnToolsVersion\": \"0.3.4\", \"failureMessage\": \"\", \"exceptionClass\": \"\", \"trace\": \"\"}}, \"*\")"
      ],
      "text/plain": [
       "<IPython.core.display.Javascript object>"
      ]
     },
     "metadata": {},
     "output_type": "display_data"
    },
    {
     "data": {
      "text/markdown": [
       "<span style=\"color:#33cc33\">Correct</span>"
      ],
      "text/plain": [
       "Correct"
      ]
     },
     "metadata": {},
     "output_type": "display_data"
    }
   ],
   "source": [
    "pi = 3.14159 # approximate\n",
    "diameter = 3\n",
    "\n",
    "# Create a variable called 'radius' equal to half the diameter\n",
    "____\n",
    "radius = diameter / 2\n",
    "# Create a variable called 'area', using the formula for the area of a circle: pi times the radius squared\n",
    "____\n",
    "area = pi * (radius ** 2)\n",
    "# Check your answer\n",
    "q1.check()"
   ]
  },
  {
   "cell_type": "code",
   "execution_count": 6,
   "id": "ba49c2f2",
   "metadata": {
    "execution": {
     "iopub.execute_input": "2022-12-20T03:03:38.278964Z",
     "iopub.status.busy": "2022-12-20T03:03:38.278461Z",
     "iopub.status.idle": "2022-12-20T03:03:38.283348Z",
     "shell.execute_reply": "2022-12-20T03:03:38.282218Z"
    },
    "papermill": {
     "duration": 0.017546,
     "end_time": "2022-12-20T03:03:38.285499",
     "exception": false,
     "start_time": "2022-12-20T03:03:38.267953",
     "status": "completed"
    },
    "tags": []
   },
   "outputs": [],
   "source": [
    "# Uncomment and run the lines below if you need help.\n",
    "#q1.hint()\n",
    "#q1.solution()"
   ]
  },
  {
   "cell_type": "markdown",
   "id": "dff868ba",
   "metadata": {
    "papermill": {
     "duration": 0.008349,
     "end_time": "2022-12-20T03:03:38.302519",
     "exception": false,
     "start_time": "2022-12-20T03:03:38.294170",
     "status": "completed"
    },
    "tags": []
   },
   "source": [
    "<hr/>\n",
    "\n",
    "# 2.\n",
    "\n",
    "Add code to the following cell to swap variables `a` and `b` (so that `a` refers to the object previously referred to by `b` and vice versa)."
   ]
  },
  {
   "cell_type": "code",
   "execution_count": 7,
   "id": "cdf3cbd9",
   "metadata": {
    "execution": {
     "iopub.execute_input": "2022-12-20T03:03:38.321657Z",
     "iopub.status.busy": "2022-12-20T03:03:38.321183Z",
     "iopub.status.idle": "2022-12-20T03:03:38.332579Z",
     "shell.execute_reply": "2022-12-20T03:03:38.331347Z"
    },
    "papermill": {
     "duration": 0.024187,
     "end_time": "2022-12-20T03:03:38.335263",
     "exception": false,
     "start_time": "2022-12-20T03:03:38.311076",
     "status": "completed"
    },
    "tags": []
   },
   "outputs": [
    {
     "data": {
      "application/javascript": [
       "parent.postMessage({\"jupyterEvent\": \"custom.exercise_interaction\", \"data\": {\"outcomeType\": 1, \"valueTowardsCompletion\": 0.25, \"interactionType\": 1, \"questionType\": 2, \"questionId\": \"2_VariableSwap\", \"learnToolsVersion\": \"0.3.4\", \"failureMessage\": \"\", \"exceptionClass\": \"\", \"trace\": \"\"}}, \"*\")"
      ],
      "text/plain": [
       "<IPython.core.display.Javascript object>"
      ]
     },
     "metadata": {},
     "output_type": "display_data"
    },
    {
     "data": {
      "text/markdown": [
       "<span style=\"color:#33cc33\">Correct:</span> \n",
       "\n",
       "The most straightforward solution is to use a third variable to temporarily store one of the old values. e.g.:\n",
       "\n",
       "    tmp = a\n",
       "    a = b\n",
       "    b = tmp\n",
       "\n",
       "If you've read lots of Python code, you might have seen the following trick to swap two variables in one line:\n",
       "\n",
       "    a, b = b, a\n",
       "\n",
       "We'll demystify this bit of Python magic later when we talk about *tuples*."
      ],
      "text/plain": [
       "Correct: \n",
       "\n",
       "The most straightforward solution is to use a third variable to temporarily store one of the old values. e.g.:\n",
       "\n",
       "    tmp = a\n",
       "    a = b\n",
       "    b = tmp\n",
       "\n",
       "If you've read lots of Python code, you might have seen the following trick to swap two variables in one line:\n",
       "\n",
       "    a, b = b, a\n",
       "\n",
       "We'll demystify this bit of Python magic later when we talk about *tuples*."
      ]
     },
     "metadata": {},
     "output_type": "display_data"
    }
   ],
   "source": [
    "########### Setup code - don't touch this part ######################\n",
    "# If you're curious, these are examples of lists. We'll talk about \n",
    "# them in depth a few lessons from now. For now, just know that they're\n",
    "# yet another type of Python object, like int or float.\n",
    "a = [1, 2, 3]\n",
    "b = [3, 2, 1]\n",
    "q2.store_original_ids()\n",
    "######################################################################\n",
    "\n",
    "# Your code goes here. Swap the values to which a and b refer.\n",
    "# If you get stuck, you can always uncomment one or both of the lines in\n",
    "# the next cell for a hint, or to peek at the solution.\n",
    "b1 = a\n",
    "a = b\n",
    "b = b1\n",
    "######################################################################\n",
    "\n",
    "# Check your answer\n",
    "q2.check()"
   ]
  },
  {
   "cell_type": "code",
   "execution_count": 8,
   "id": "f8136c0b",
   "metadata": {
    "execution": {
     "iopub.execute_input": "2022-12-20T03:03:38.356862Z",
     "iopub.status.busy": "2022-12-20T03:03:38.356360Z",
     "iopub.status.idle": "2022-12-20T03:03:38.362927Z",
     "shell.execute_reply": "2022-12-20T03:03:38.361276Z"
    },
    "papermill": {
     "duration": 0.020714,
     "end_time": "2022-12-20T03:03:38.365789",
     "exception": false,
     "start_time": "2022-12-20T03:03:38.345075",
     "status": "completed"
    },
    "tags": []
   },
   "outputs": [],
   "source": [
    "#q2.hint()"
   ]
  },
  {
   "cell_type": "code",
   "execution_count": 9,
   "id": "2839c904",
   "metadata": {
    "execution": {
     "iopub.execute_input": "2022-12-20T03:03:38.386238Z",
     "iopub.status.busy": "2022-12-20T03:03:38.385759Z",
     "iopub.status.idle": "2022-12-20T03:03:38.391276Z",
     "shell.execute_reply": "2022-12-20T03:03:38.389887Z"
    },
    "papermill": {
     "duration": 0.019264,
     "end_time": "2022-12-20T03:03:38.394044",
     "exception": false,
     "start_time": "2022-12-20T03:03:38.374780",
     "status": "completed"
    },
    "tags": []
   },
   "outputs": [],
   "source": [
    "#q2.solution()"
   ]
  },
  {
   "cell_type": "markdown",
   "id": "9e145877",
   "metadata": {
    "papermill": {
     "duration": 0.009083,
     "end_time": "2022-12-20T03:03:38.412051",
     "exception": false,
     "start_time": "2022-12-20T03:03:38.402968",
     "status": "completed"
    },
    "tags": []
   },
   "source": [
    "<hr/>\n",
    "\n",
    "# 3a.\n",
    "\n",
    "Add parentheses to the following expression so that it evaluates to 1."
   ]
  },
  {
   "cell_type": "code",
   "execution_count": 10,
   "id": "fdf0a277",
   "metadata": {
    "execution": {
     "iopub.execute_input": "2022-12-20T03:03:38.434651Z",
     "iopub.status.busy": "2022-12-20T03:03:38.431635Z",
     "iopub.status.idle": "2022-12-20T03:03:38.442293Z",
     "shell.execute_reply": "2022-12-20T03:03:38.441404Z"
    },
    "papermill": {
     "duration": 0.023864,
     "end_time": "2022-12-20T03:03:38.444697",
     "exception": false,
     "start_time": "2022-12-20T03:03:38.420833",
     "status": "completed"
    },
    "tags": []
   },
   "outputs": [
    {
     "data": {
      "text/plain": [
       "1"
      ]
     },
     "execution_count": 10,
     "metadata": {},
     "output_type": "execute_result"
    }
   ],
   "source": [
    "(5 - 3) // 2"
   ]
  },
  {
   "cell_type": "code",
   "execution_count": 11,
   "id": "faa8c08d",
   "metadata": {
    "execution": {
     "iopub.execute_input": "2022-12-20T03:03:38.465997Z",
     "iopub.status.busy": "2022-12-20T03:03:38.465116Z",
     "iopub.status.idle": "2022-12-20T03:03:38.469514Z",
     "shell.execute_reply": "2022-12-20T03:03:38.468659Z"
    },
    "papermill": {
     "duration": 0.01763,
     "end_time": "2022-12-20T03:03:38.471788",
     "exception": false,
     "start_time": "2022-12-20T03:03:38.454158",
     "status": "completed"
    },
    "tags": []
   },
   "outputs": [],
   "source": [
    "#q3.a.hint()"
   ]
  },
  {
   "cell_type": "code",
   "execution_count": 12,
   "id": "896ae6cf",
   "metadata": {
    "execution": {
     "iopub.execute_input": "2022-12-20T03:03:38.492895Z",
     "iopub.status.busy": "2022-12-20T03:03:38.492023Z",
     "iopub.status.idle": "2022-12-20T03:03:38.500779Z",
     "shell.execute_reply": "2022-12-20T03:03:38.499879Z"
    },
    "papermill": {
     "duration": 0.021706,
     "end_time": "2022-12-20T03:03:38.502976",
     "exception": false,
     "start_time": "2022-12-20T03:03:38.481270",
     "status": "completed"
    },
    "tags": []
   },
   "outputs": [
    {
     "data": {
      "application/javascript": [
       "parent.postMessage({\"jupyterEvent\": \"custom.exercise_interaction\", \"data\": {\"interactionType\": 3, \"questionType\": 4, \"questionId\": \"3.1_ArithmeticParensEasy\", \"learnToolsVersion\": \"0.3.4\", \"valueTowardsCompletion\": 0.0, \"failureMessage\": \"\", \"exceptionClass\": \"\", \"trace\": \"\", \"outcomeType\": 4}}, \"*\")"
      ],
      "text/plain": [
       "<IPython.core.display.Javascript object>"
      ]
     },
     "metadata": {},
     "output_type": "display_data"
    },
    {
     "data": {
      "text/markdown": [
       "<span style=\"color:#33cc99\">Solution:</span> \n",
       "```python\n",
       "(5 - 3) // 2\n",
       "```"
      ],
      "text/plain": [
       "Solution: \n",
       "```python\n",
       "(5 - 3) // 2\n",
       "```"
      ]
     },
     "metadata": {},
     "output_type": "display_data"
    }
   ],
   "source": [
    "# Check your answer (Run this code cell to receive credit!)\n",
    "q3.a.solution()"
   ]
  },
  {
   "cell_type": "markdown",
   "id": "ec54dda4",
   "metadata": {
    "papermill": {
     "duration": 0.008848,
     "end_time": "2022-12-20T03:03:38.521343",
     "exception": false,
     "start_time": "2022-12-20T03:03:38.512495",
     "status": "completed"
    },
    "tags": []
   },
   "source": [
    "# 3b.  <span title=\"A bit spicy\" style=\"color: darkgreen \">🌶️</span>\n",
    "\n",
    "<small>Questions, like this one, marked a spicy pepper are a bit harder.</small>\n",
    "\n",
    "Add parentheses to the following expression so that it evaluates to 0."
   ]
  },
  {
   "cell_type": "code",
   "execution_count": 13,
   "id": "47b10591",
   "metadata": {
    "execution": {
     "iopub.execute_input": "2022-12-20T03:03:38.541506Z",
     "iopub.status.busy": "2022-12-20T03:03:38.541014Z",
     "iopub.status.idle": "2022-12-20T03:03:38.548367Z",
     "shell.execute_reply": "2022-12-20T03:03:38.547103Z"
    },
    "papermill": {
     "duration": 0.020271,
     "end_time": "2022-12-20T03:03:38.550634",
     "exception": false,
     "start_time": "2022-12-20T03:03:38.530363",
     "status": "completed"
    },
    "tags": []
   },
   "outputs": [
    {
     "data": {
      "text/plain": [
       "0"
      ]
     },
     "execution_count": 13,
     "metadata": {},
     "output_type": "execute_result"
    }
   ],
   "source": [
    "(8 - 3) * (2 - (1 + 1))"
   ]
  },
  {
   "cell_type": "code",
   "execution_count": 14,
   "id": "b8aa8c54",
   "metadata": {
    "execution": {
     "iopub.execute_input": "2022-12-20T03:03:38.572218Z",
     "iopub.status.busy": "2022-12-20T03:03:38.571722Z",
     "iopub.status.idle": "2022-12-20T03:03:38.577091Z",
     "shell.execute_reply": "2022-12-20T03:03:38.575522Z"
    },
    "papermill": {
     "duration": 0.019387,
     "end_time": "2022-12-20T03:03:38.579759",
     "exception": false,
     "start_time": "2022-12-20T03:03:38.560372",
     "status": "completed"
    },
    "tags": []
   },
   "outputs": [],
   "source": [
    "#q3.b.hint()"
   ]
  },
  {
   "cell_type": "code",
   "execution_count": 15,
   "id": "daa8131f",
   "metadata": {
    "execution": {
     "iopub.execute_input": "2022-12-20T03:03:38.601670Z",
     "iopub.status.busy": "2022-12-20T03:03:38.601169Z",
     "iopub.status.idle": "2022-12-20T03:03:38.611228Z",
     "shell.execute_reply": "2022-12-20T03:03:38.609984Z"
    },
    "papermill": {
     "duration": 0.024371,
     "end_time": "2022-12-20T03:03:38.614006",
     "exception": false,
     "start_time": "2022-12-20T03:03:38.589635",
     "status": "completed"
    },
    "tags": []
   },
   "outputs": [
    {
     "data": {
      "application/javascript": [
       "parent.postMessage({\"jupyterEvent\": \"custom.exercise_interaction\", \"data\": {\"interactionType\": 3, \"questionType\": 4, \"questionId\": \"3.2_ArithmeticParensHard\", \"learnToolsVersion\": \"0.3.4\", \"valueTowardsCompletion\": 0.0, \"failureMessage\": \"\", \"exceptionClass\": \"\", \"trace\": \"\", \"outcomeType\": 4}}, \"*\")"
      ],
      "text/plain": [
       "<IPython.core.display.Javascript object>"
      ]
     },
     "metadata": {},
     "output_type": "display_data"
    },
    {
     "data": {
      "text/markdown": [
       "<span style=\"color:#33cc99\">Solution:</span> `(8 - 3) * (2 - (1 + 1))` is one solution. There may be others."
      ],
      "text/plain": [
       "Solution: `(8 - 3) * (2 - (1 + 1))` is one solution. There may be others."
      ]
     },
     "metadata": {},
     "output_type": "display_data"
    }
   ],
   "source": [
    "# Check your answer (Run this code cell to receive credit!)\n",
    "q3.b.solution()"
   ]
  },
  {
   "cell_type": "markdown",
   "id": "a240ed0e",
   "metadata": {
    "papermill": {
     "duration": 0.00905,
     "end_time": "2022-12-20T03:03:38.632621",
     "exception": false,
     "start_time": "2022-12-20T03:03:38.623571",
     "status": "completed"
    },
    "tags": []
   },
   "source": [
    "<hr/>\n",
    "\n",
    "# 4. \n",
    "Alice, Bob and Carol have agreed to pool their Halloween candy and split it evenly among themselves.\n",
    "For the sake of their friendship, any candies left over will be smashed. For example, if they collectively\n",
    "bring home 91 candies, they'll take 30 each and smash 1.\n",
    "\n",
    "Write an arithmetic expression below to calculate how many candies they must smash for a given haul."
   ]
  },
  {
   "cell_type": "code",
   "execution_count": 16,
   "id": "b721b62e",
   "metadata": {
    "execution": {
     "iopub.execute_input": "2022-12-20T03:03:38.654550Z",
     "iopub.status.busy": "2022-12-20T03:03:38.654076Z",
     "iopub.status.idle": "2022-12-20T03:03:38.664858Z",
     "shell.execute_reply": "2022-12-20T03:03:38.663722Z"
    },
    "papermill": {
     "duration": 0.02473,
     "end_time": "2022-12-20T03:03:38.667291",
     "exception": false,
     "start_time": "2022-12-20T03:03:38.642561",
     "status": "completed"
    },
    "tags": []
   },
   "outputs": [
    {
     "data": {
      "application/javascript": [
       "parent.postMessage({\"jupyterEvent\": \"custom.exercise_interaction\", \"data\": {\"outcomeType\": 1, \"valueTowardsCompletion\": 0.25, \"interactionType\": 1, \"questionType\": 1, \"questionId\": \"4_CandySplitting\", \"learnToolsVersion\": \"0.3.4\", \"failureMessage\": \"\", \"exceptionClass\": \"\", \"trace\": \"\"}}, \"*\")"
      ],
      "text/plain": [
       "<IPython.core.display.Javascript object>"
      ]
     },
     "metadata": {},
     "output_type": "display_data"
    },
    {
     "data": {
      "text/markdown": [
       "<span style=\"color:#33cc33\">Correct</span>"
      ],
      "text/plain": [
       "Correct"
      ]
     },
     "metadata": {},
     "output_type": "display_data"
    }
   ],
   "source": [
    "# Variables representing the number of candies collected by alice, bob, and carol\n",
    "alice_candies = 121\n",
    "bob_candies = 77\n",
    "carol_candies = 109\n",
    "\n",
    "# Your code goes here! Replace the right-hand side of this assignment with an expression\n",
    "# involving alice_candies, bob_candies, and carol_candies\n",
    "to_smash = (alice_candies + bob_candies + carol_candies) % 3\n",
    "\n",
    "# Check your answer\n",
    "q4.check()"
   ]
  },
  {
   "cell_type": "code",
   "execution_count": 17,
   "id": "33ac8f20",
   "metadata": {
    "execution": {
     "iopub.execute_input": "2022-12-20T03:03:38.689237Z",
     "iopub.status.busy": "2022-12-20T03:03:38.688742Z",
     "iopub.status.idle": "2022-12-20T03:03:38.694301Z",
     "shell.execute_reply": "2022-12-20T03:03:38.692979Z"
    },
    "papermill": {
     "duration": 0.019598,
     "end_time": "2022-12-20T03:03:38.696859",
     "exception": false,
     "start_time": "2022-12-20T03:03:38.677261",
     "status": "completed"
    },
    "tags": []
   },
   "outputs": [],
   "source": [
    "#q4.hint()\n",
    "#q4.solution()"
   ]
  },
  {
   "cell_type": "markdown",
   "id": "1959e20c",
   "metadata": {
    "papermill": {
     "duration": 0.009455,
     "end_time": "2022-12-20T03:03:38.716104",
     "exception": false,
     "start_time": "2022-12-20T03:03:38.706649",
     "status": "completed"
    },
    "tags": []
   },
   "source": [
    "# Keep Going\n",
    "\n",
    "Next up, you'll **[learn to write new functions and understand functions others write](https://www.kaggle.com/colinmorris/functions-and-getting-help)**. This will make you at least 10 times more productive as a Python programmer. "
   ]
  },
  {
   "cell_type": "markdown",
   "id": "dc1a8575",
   "metadata": {
    "papermill": {
     "duration": 0.009517,
     "end_time": "2022-12-20T03:03:38.735379",
     "exception": false,
     "start_time": "2022-12-20T03:03:38.725862",
     "status": "completed"
    },
    "tags": []
   },
   "source": [
    "---\n",
    "\n",
    "\n",
    "\n",
    "\n",
    "*Have questions or comments? Visit the [course discussion forum](https://www.kaggle.com/learn/python/discussion) to chat with other learners.*"
   ]
  }
 ],
 "metadata": {
  "kernelspec": {
   "display_name": "Python 3",
   "language": "python",
   "name": "python3"
  },
  "language_info": {
   "codemirror_mode": {
    "name": "ipython",
    "version": 3
   },
   "file_extension": ".py",
   "mimetype": "text/x-python",
   "name": "python",
   "nbconvert_exporter": "python",
   "pygments_lexer": "ipython3",
   "version": "3.7.12"
  },
  "papermill": {
   "default_parameters": {},
   "duration": 11.104098,
   "end_time": "2022-12-20T03:03:39.571215",
   "environment_variables": {},
   "exception": null,
   "input_path": "__notebook__.ipynb",
   "output_path": "__notebook__.ipynb",
   "parameters": {},
   "start_time": "2022-12-20T03:03:28.467117",
   "version": "2.3.4"
  }
 },
 "nbformat": 4,
 "nbformat_minor": 5
}
