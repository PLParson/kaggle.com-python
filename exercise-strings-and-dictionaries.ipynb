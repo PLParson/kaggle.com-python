{
 "cells": [
  {
   "cell_type": "markdown",
   "id": "5a6290be",
   "metadata": {
    "papermill": {
     "duration": 0.007028,
     "end_time": "2022-12-22T00:14:42.475435",
     "exception": false,
     "start_time": "2022-12-22T00:14:42.468407",
     "status": "completed"
    },
    "tags": []
   },
   "source": [
    "**This notebook is an exercise in the [Python](https://www.kaggle.com/learn/python) course.  You can reference the tutorial at [this link](https://www.kaggle.com/colinmorris/strings-and-dictionaries).**\n",
    "\n",
    "---\n"
   ]
  },
  {
   "cell_type": "markdown",
   "id": "c8ad3eef",
   "metadata": {
    "papermill": {
     "duration": 0.005424,
     "end_time": "2022-12-22T00:14:42.487317",
     "exception": false,
     "start_time": "2022-12-22T00:14:42.481893",
     "status": "completed"
    },
    "tags": []
   },
   "source": [
    "You are almost done with the course. Nice job!\n",
    "\n",
    "We have a couple more interesting problems for you before you go. \n",
    "\n",
    "As always, run the setup code below before working on the questions."
   ]
  },
  {
   "cell_type": "code",
   "execution_count": 1,
   "id": "0eb38a6b",
   "metadata": {
    "execution": {
     "iopub.execute_input": "2022-12-22T00:14:42.501886Z",
     "iopub.status.busy": "2022-12-22T00:14:42.500758Z",
     "iopub.status.idle": "2022-12-22T00:14:42.576287Z",
     "shell.execute_reply": "2022-12-22T00:14:42.574928Z"
    },
    "papermill": {
     "duration": 0.086507,
     "end_time": "2022-12-22T00:14:42.579537",
     "exception": false,
     "start_time": "2022-12-22T00:14:42.493030",
     "status": "completed"
    },
    "tags": []
   },
   "outputs": [
    {
     "name": "stdout",
     "output_type": "stream",
     "text": [
      "Setup complete.\n"
     ]
    }
   ],
   "source": [
    "from learntools.core import binder; binder.bind(globals())\n",
    "from learntools.python.ex6 import *\n",
    "print('Setup complete.')"
   ]
  },
  {
   "cell_type": "markdown",
   "id": "c72a6e93",
   "metadata": {
    "papermill": {
     "duration": 0.00555,
     "end_time": "2022-12-22T00:14:42.591099",
     "exception": false,
     "start_time": "2022-12-22T00:14:42.585549",
     "status": "completed"
    },
    "tags": []
   },
   "source": [
    "Let's start with a string lightning round to warm up. What are the lengths of the strings below?\n",
    "\n",
    "For each of the five strings below, predict what `len()` would return when passed that string. Use the variable `length` to record your answer, then run the cell to check whether you were right.  \n",
    "\n",
    "# 0a."
   ]
  },
  {
   "cell_type": "code",
   "execution_count": 2,
   "id": "8639a8e1",
   "metadata": {
    "execution": {
     "iopub.execute_input": "2022-12-22T00:14:42.604986Z",
     "iopub.status.busy": "2022-12-22T00:14:42.604504Z",
     "iopub.status.idle": "2022-12-22T00:14:42.617849Z",
     "shell.execute_reply": "2022-12-22T00:14:42.616108Z"
    },
    "papermill": {
     "duration": 0.023063,
     "end_time": "2022-12-22T00:14:42.620313",
     "exception": false,
     "start_time": "2022-12-22T00:14:42.597250",
     "status": "completed"
    },
    "tags": []
   },
   "outputs": [
    {
     "data": {
      "application/javascript": [
       "parent.postMessage({\"jupyterEvent\": \"custom.exercise_interaction\", \"data\": {\"outcomeType\": 1, \"valueTowardsCompletion\": 0.3333333333333333, \"interactionType\": 1, \"questionType\": 1, \"questionId\": \"0.1_ZA\", \"learnToolsVersion\": \"0.3.4\", \"failureMessage\": \"\", \"exceptionClass\": \"\", \"trace\": \"\"}}, \"*\")"
      ],
      "text/plain": [
       "<IPython.core.display.Javascript object>"
      ]
     },
     "metadata": {},
     "output_type": "display_data"
    },
    {
     "data": {
      "text/markdown": [
       "<span style=\"color:#33cc33\">Correct:</span> \n",
       "\n",
       "The empty string has length zero. Note that the empty string is also the only string that Python considers as False when converting to boolean."
      ],
      "text/plain": [
       "Correct: \n",
       "\n",
       "The empty string has length zero. Note that the empty string is also the only string that Python considers as False when converting to boolean."
      ]
     },
     "metadata": {},
     "output_type": "display_data"
    }
   ],
   "source": [
    "a = \"\"\n",
    "length = 0\n",
    "q0.a.check()"
   ]
  },
  {
   "cell_type": "markdown",
   "id": "a4f70178",
   "metadata": {
    "papermill": {
     "duration": 0.005805,
     "end_time": "2022-12-22T00:14:42.632526",
     "exception": false,
     "start_time": "2022-12-22T00:14:42.626721",
     "status": "completed"
    },
    "tags": []
   },
   "source": [
    "# 0b."
   ]
  },
  {
   "cell_type": "code",
   "execution_count": 3,
   "id": "70cb0471",
   "metadata": {
    "execution": {
     "iopub.execute_input": "2022-12-22T00:14:42.646659Z",
     "iopub.status.busy": "2022-12-22T00:14:42.646204Z",
     "iopub.status.idle": "2022-12-22T00:14:42.656981Z",
     "shell.execute_reply": "2022-12-22T00:14:42.655668Z"
    },
    "papermill": {
     "duration": 0.020925,
     "end_time": "2022-12-22T00:14:42.659568",
     "exception": false,
     "start_time": "2022-12-22T00:14:42.638643",
     "status": "completed"
    },
    "tags": []
   },
   "outputs": [
    {
     "data": {
      "application/javascript": [
       "parent.postMessage({\"jupyterEvent\": \"custom.exercise_interaction\", \"data\": {\"outcomeType\": 1, \"valueTowardsCompletion\": 0.3333333333333333, \"interactionType\": 1, \"questionType\": 1, \"questionId\": \"0.2_ZB\", \"learnToolsVersion\": \"0.3.4\", \"failureMessage\": \"\", \"exceptionClass\": \"\", \"trace\": \"\"}}, \"*\")"
      ],
      "text/plain": [
       "<IPython.core.display.Javascript object>"
      ]
     },
     "metadata": {},
     "output_type": "display_data"
    },
    {
     "data": {
      "text/markdown": [
       "<span style=\"color:#33cc33\">Correct:</span> \n",
       "\n",
       "Keep in mind Python includes spaces (and punctuation) when counting string length."
      ],
      "text/plain": [
       "Correct: \n",
       "\n",
       "Keep in mind Python includes spaces (and punctuation) when counting string length."
      ]
     },
     "metadata": {},
     "output_type": "display_data"
    }
   ],
   "source": [
    "b = \"it's ok\"\n",
    "length = 7 \n",
    "q0.b.check()"
   ]
  },
  {
   "cell_type": "markdown",
   "id": "5a29df8e",
   "metadata": {
    "papermill": {
     "duration": 0.006009,
     "end_time": "2022-12-22T00:14:42.672164",
     "exception": false,
     "start_time": "2022-12-22T00:14:42.666155",
     "status": "completed"
    },
    "tags": []
   },
   "source": [
    "# 0c."
   ]
  },
  {
   "cell_type": "code",
   "execution_count": 4,
   "id": "bdd813de",
   "metadata": {
    "execution": {
     "iopub.execute_input": "2022-12-22T00:14:42.688245Z",
     "iopub.status.busy": "2022-12-22T00:14:42.687779Z",
     "iopub.status.idle": "2022-12-22T00:14:42.697782Z",
     "shell.execute_reply": "2022-12-22T00:14:42.696471Z"
    },
    "papermill": {
     "duration": 0.019922,
     "end_time": "2022-12-22T00:14:42.700146",
     "exception": false,
     "start_time": "2022-12-22T00:14:42.680224",
     "status": "completed"
    },
    "tags": []
   },
   "outputs": [
    {
     "data": {
      "application/javascript": [
       "parent.postMessage({\"jupyterEvent\": \"custom.exercise_interaction\", \"data\": {\"outcomeType\": 1, \"valueTowardsCompletion\": 0.3333333333333333, \"interactionType\": 1, \"questionType\": 1, \"questionId\": \"0.3_ZC\", \"learnToolsVersion\": \"0.3.4\", \"failureMessage\": \"\", \"exceptionClass\": \"\", \"trace\": \"\"}}, \"*\")"
      ],
      "text/plain": [
       "<IPython.core.display.Javascript object>"
      ]
     },
     "metadata": {},
     "output_type": "display_data"
    },
    {
     "data": {
      "text/markdown": [
       "<span style=\"color:#33cc33\">Correct:</span> \n",
       "\n",
       "Even though we use different syntax to create it, the string `c` is identical to `b`. In particular, note that the backslash is not part of the string, so it doesn't contribute to its length."
      ],
      "text/plain": [
       "Correct: \n",
       "\n",
       "Even though we use different syntax to create it, the string `c` is identical to `b`. In particular, note that the backslash is not part of the string, so it doesn't contribute to its length."
      ]
     },
     "metadata": {},
     "output_type": "display_data"
    }
   ],
   "source": [
    "c = 'it\\'s ok'\n",
    "length = 7\n",
    "q0.c.check()"
   ]
  },
  {
   "cell_type": "markdown",
   "id": "b22576ff",
   "metadata": {
    "papermill": {
     "duration": 0.006863,
     "end_time": "2022-12-22T00:14:42.713577",
     "exception": false,
     "start_time": "2022-12-22T00:14:42.706714",
     "status": "completed"
    },
    "tags": []
   },
   "source": [
    "# 0d."
   ]
  },
  {
   "cell_type": "code",
   "execution_count": 5,
   "id": "4746d6b7",
   "metadata": {
    "execution": {
     "iopub.execute_input": "2022-12-22T00:14:42.729436Z",
     "iopub.status.busy": "2022-12-22T00:14:42.728979Z",
     "iopub.status.idle": "2022-12-22T00:14:42.739000Z",
     "shell.execute_reply": "2022-12-22T00:14:42.737953Z"
    },
    "papermill": {
     "duration": 0.021118,
     "end_time": "2022-12-22T00:14:42.741390",
     "exception": false,
     "start_time": "2022-12-22T00:14:42.720272",
     "status": "completed"
    },
    "tags": []
   },
   "outputs": [
    {
     "data": {
      "application/javascript": [
       "parent.postMessage({\"jupyterEvent\": \"custom.exercise_interaction\", \"data\": {\"outcomeType\": 1, \"valueTowardsCompletion\": 0.3333333333333333, \"interactionType\": 1, \"questionType\": 1, \"questionId\": \"0.4_ZD\", \"learnToolsVersion\": \"0.3.4\", \"failureMessage\": \"\", \"exceptionClass\": \"\", \"trace\": \"\"}}, \"*\")"
      ],
      "text/plain": [
       "<IPython.core.display.Javascript object>"
      ]
     },
     "metadata": {},
     "output_type": "display_data"
    },
    {
     "data": {
      "text/markdown": [
       "<span style=\"color:#33cc33\">Correct:</span> \n",
       "\n",
       "The fact that this string was created using triple-quote syntax doesn't make any difference in terms of its content or length. This string is exactly the same as `'hey'`."
      ],
      "text/plain": [
       "Correct: \n",
       "\n",
       "The fact that this string was created using triple-quote syntax doesn't make any difference in terms of its content or length. This string is exactly the same as `'hey'`."
      ]
     },
     "metadata": {},
     "output_type": "display_data"
    }
   ],
   "source": [
    "d = \"\"\"hey\"\"\"\n",
    "length = 3\n",
    "q0.d.check()"
   ]
  },
  {
   "cell_type": "markdown",
   "id": "1fd6693b",
   "metadata": {
    "papermill": {
     "duration": 0.007055,
     "end_time": "2022-12-22T00:14:42.755359",
     "exception": false,
     "start_time": "2022-12-22T00:14:42.748304",
     "status": "completed"
    },
    "tags": []
   },
   "source": [
    "# 0e."
   ]
  },
  {
   "cell_type": "code",
   "execution_count": 6,
   "id": "5aa967ef",
   "metadata": {
    "execution": {
     "iopub.execute_input": "2022-12-22T00:14:42.772021Z",
     "iopub.status.busy": "2022-12-22T00:14:42.770485Z",
     "iopub.status.idle": "2022-12-22T00:14:42.781301Z",
     "shell.execute_reply": "2022-12-22T00:14:42.780133Z"
    },
    "papermill": {
     "duration": 0.021659,
     "end_time": "2022-12-22T00:14:42.783925",
     "exception": false,
     "start_time": "2022-12-22T00:14:42.762266",
     "status": "completed"
    },
    "tags": []
   },
   "outputs": [
    {
     "data": {
      "application/javascript": [
       "parent.postMessage({\"jupyterEvent\": \"custom.exercise_interaction\", \"data\": {\"outcomeType\": 1, \"valueTowardsCompletion\": 0.3333333333333333, \"interactionType\": 1, \"questionType\": 1, \"questionId\": \"0.5_ZE\", \"learnToolsVersion\": \"0.3.4\", \"failureMessage\": \"\", \"exceptionClass\": \"\", \"trace\": \"\"}}, \"*\")"
      ],
      "text/plain": [
       "<IPython.core.display.Javascript object>"
      ]
     },
     "metadata": {},
     "output_type": "display_data"
    },
    {
     "data": {
      "text/markdown": [
       "<span style=\"color:#33cc33\">Correct:</span> \n",
       "\n",
       "The newline character is just a single character! (Even though we represent it to Python using a combination of two characters.)"
      ],
      "text/plain": [
       "Correct: \n",
       "\n",
       "The newline character is just a single character! (Even though we represent it to Python using a combination of two characters.)"
      ]
     },
     "metadata": {},
     "output_type": "display_data"
    }
   ],
   "source": [
    "e = '\\n'\n",
    "length = 1\n",
    "q0.e.check()"
   ]
  },
  {
   "cell_type": "markdown",
   "id": "b43ef847",
   "metadata": {
    "papermill": {
     "duration": 0.006682,
     "end_time": "2022-12-22T00:14:42.797782",
     "exception": false,
     "start_time": "2022-12-22T00:14:42.791100",
     "status": "completed"
    },
    "tags": []
   },
   "source": [
    "# 1.\n",
    "\n",
    "There is a saying that \"Data scientists spend 80% of their time cleaning data, and 20% of their time complaining about cleaning data.\" Let's see if you can write a function to help clean US zip code data. Given a string, it should return whether or not that string represents a valid zip code. For our purposes, a valid zip code is any string consisting of exactly 5 digits.\n",
    "\n",
    "HINT: `str` has a method that will be useful here. Use `help(str)` to review a list of string methods."
   ]
  },
  {
   "cell_type": "code",
   "execution_count": 7,
   "id": "0c312994",
   "metadata": {
    "execution": {
     "iopub.execute_input": "2022-12-22T00:14:42.813603Z",
     "iopub.status.busy": "2022-12-22T00:14:42.813157Z",
     "iopub.status.idle": "2022-12-22T00:14:42.824629Z",
     "shell.execute_reply": "2022-12-22T00:14:42.823407Z"
    },
    "papermill": {
     "duration": 0.022621,
     "end_time": "2022-12-22T00:14:42.827351",
     "exception": false,
     "start_time": "2022-12-22T00:14:42.804730",
     "status": "completed"
    },
    "tags": []
   },
   "outputs": [
    {
     "data": {
      "application/javascript": [
       "parent.postMessage({\"jupyterEvent\": \"custom.exercise_interaction\", \"data\": {\"outcomeType\": 1, \"valueTowardsCompletion\": 0.3333333333333333, \"interactionType\": 1, \"questionType\": 2, \"questionId\": \"1_ZipValidator\", \"learnToolsVersion\": \"0.3.4\", \"failureMessage\": \"\", \"exceptionClass\": \"\", \"trace\": \"\"}}, \"*\")"
      ],
      "text/plain": [
       "<IPython.core.display.Javascript object>"
      ]
     },
     "metadata": {},
     "output_type": "display_data"
    },
    {
     "data": {
      "text/markdown": [
       "<span style=\"color:#33cc33\">Correct</span>"
      ],
      "text/plain": [
       "Correct"
      ]
     },
     "metadata": {},
     "output_type": "display_data"
    }
   ],
   "source": [
    "def is_valid_zip(zip_code):\n",
    "    \"\"\"Returns whether the input string is a valid (5 digit) zip code\n",
    "    \"\"\"\n",
    "    pass\n",
    "#     help(str)\n",
    "    return len(zip_code) == 5 and zip_code.isdecimal()\n",
    "\n",
    "# Check your answer\n",
    "q1.check()"
   ]
  },
  {
   "cell_type": "code",
   "execution_count": 8,
   "id": "368de8ef",
   "metadata": {
    "execution": {
     "iopub.execute_input": "2022-12-22T00:14:42.843933Z",
     "iopub.status.busy": "2022-12-22T00:14:42.843002Z",
     "iopub.status.idle": "2022-12-22T00:14:42.848275Z",
     "shell.execute_reply": "2022-12-22T00:14:42.846864Z"
    },
    "papermill": {
     "duration": 0.016502,
     "end_time": "2022-12-22T00:14:42.851073",
     "exception": false,
     "start_time": "2022-12-22T00:14:42.834571",
     "status": "completed"
    },
    "tags": []
   },
   "outputs": [],
   "source": [
    "# q1.hint()\n",
    "# q1.solution()"
   ]
  },
  {
   "cell_type": "markdown",
   "id": "4545f7b6",
   "metadata": {
    "papermill": {
     "duration": 0.006841,
     "end_time": "2022-12-22T00:14:42.865140",
     "exception": false,
     "start_time": "2022-12-22T00:14:42.858299",
     "status": "completed"
    },
    "tags": []
   },
   "source": [
    "# 2.\n",
    "\n",
    "A researcher has gathered thousands of news articles. But she wants to focus her attention on articles including a specific word. Complete the function below to help her filter her list of articles.\n",
    "\n",
    "Your function should meet the following criteria:\n",
    "\n",
    "- Do not include documents where the keyword string shows up only as a part of a larger word. For example, if she were looking for the keyword “closed”, you would not include the string “enclosed.” \n",
    "- She does not want you to distinguish upper case from lower case letters. So the phrase “Closed the case.” would be included when the keyword is “closed”\n",
    "- Do not let periods or commas affect what is matched. “It is closed.” would be included when the keyword is “closed”. But you can assume there are no other types of punctuation."
   ]
  },
  {
   "cell_type": "code",
   "execution_count": 9,
   "id": "4cd813f6",
   "metadata": {
    "execution": {
     "iopub.execute_input": "2022-12-22T00:14:42.882157Z",
     "iopub.status.busy": "2022-12-22T00:14:42.881547Z",
     "iopub.status.idle": "2022-12-22T00:14:42.894582Z",
     "shell.execute_reply": "2022-12-22T00:14:42.893352Z"
    },
    "papermill": {
     "duration": 0.02429,
     "end_time": "2022-12-22T00:14:42.897051",
     "exception": false,
     "start_time": "2022-12-22T00:14:42.872761",
     "status": "completed"
    },
    "tags": []
   },
   "outputs": [
    {
     "data": {
      "application/javascript": [
       "parent.postMessage({\"jupyterEvent\": \"custom.exercise_interaction\", \"data\": {\"outcomeType\": 1, \"valueTowardsCompletion\": 0.3333333333333333, \"interactionType\": 1, \"questionType\": 2, \"questionId\": \"2_WordSearch\", \"learnToolsVersion\": \"0.3.4\", \"failureMessage\": \"\", \"exceptionClass\": \"\", \"trace\": \"\"}}, \"*\")"
      ],
      "text/plain": [
       "<IPython.core.display.Javascript object>"
      ]
     },
     "metadata": {},
     "output_type": "display_data"
    },
    {
     "data": {
      "text/markdown": [
       "<span style=\"color:#33cc33\">Correct</span>"
      ],
      "text/plain": [
       "Correct"
      ]
     },
     "metadata": {},
     "output_type": "display_data"
    }
   ],
   "source": [
    "def word_search(doc_list, keyword):\n",
    "    \"\"\"\n",
    "    Takes a list of documents (each document is a string) and a keyword. \n",
    "    Returns list of the index values into the original list for all documents \n",
    "    containing the keyword.\n",
    "\n",
    "    Example:\n",
    "    doc_list = [\"The Learn Python Challenge Casino.\", \"They bought a car\", \"Casinoville\"]\n",
    "    >>> word_search(doc_list, 'casino')\n",
    "    >>> [0]\n",
    "    \"\"\"\n",
    "    pass\n",
    "#     help(str)\n",
    "    newList = []\n",
    "    for i in range(len(doc_list)):\n",
    "        temp = doc_list[i].lower().split()\n",
    "        for t in temp:\n",
    "            if t.strip(',') == keyword or t.strip('.') == keyword.lower():\n",
    "                newList.append(i)\n",
    "                break\n",
    "    return newList\n",
    "\n",
    "# Check your answer\n",
    "q2.check()"
   ]
  },
  {
   "cell_type": "code",
   "execution_count": 10,
   "id": "235c5ab3",
   "metadata": {
    "execution": {
     "iopub.execute_input": "2022-12-22T00:14:42.914477Z",
     "iopub.status.busy": "2022-12-22T00:14:42.913537Z",
     "iopub.status.idle": "2022-12-22T00:14:42.928155Z",
     "shell.execute_reply": "2022-12-22T00:14:42.927147Z"
    },
    "papermill": {
     "duration": 0.026254,
     "end_time": "2022-12-22T00:14:42.930651",
     "exception": false,
     "start_time": "2022-12-22T00:14:42.904397",
     "status": "completed"
    },
    "tags": []
   },
   "outputs": [
    {
     "data": {
      "application/javascript": [
       "parent.postMessage({\"jupyterEvent\": \"custom.exercise_interaction\", \"data\": {\"interactionType\": 2, \"questionType\": 2, \"questionId\": \"2_WordSearch\", \"learnToolsVersion\": \"0.3.4\", \"valueTowardsCompletion\": 0.0, \"failureMessage\": \"\", \"exceptionClass\": \"\", \"trace\": \"\", \"outcomeType\": 4}}, \"*\")"
      ],
      "text/plain": [
       "<IPython.core.display.Javascript object>"
      ]
     },
     "metadata": {},
     "output_type": "display_data"
    },
    {
     "data": {
      "text/markdown": [
       "<span style=\"color:#3366cc\">Hint:</span> Some methods that may be useful here: `str.split()`, `str.strip()`, `str.lower()`."
      ],
      "text/plain": [
       "Hint: Some methods that may be useful here: `str.split()`, `str.strip()`, `str.lower()`."
      ]
     },
     "metadata": {},
     "output_type": "display_data"
    },
    {
     "data": {
      "application/javascript": [
       "parent.postMessage({\"jupyterEvent\": \"custom.exercise_interaction\", \"data\": {\"interactionType\": 3, \"questionType\": 2, \"questionId\": \"2_WordSearch\", \"learnToolsVersion\": \"0.3.4\", \"valueTowardsCompletion\": 0.0, \"failureMessage\": \"\", \"exceptionClass\": \"\", \"trace\": \"\", \"outcomeType\": 4}}, \"*\")"
      ],
      "text/plain": [
       "<IPython.core.display.Javascript object>"
      ]
     },
     "metadata": {},
     "output_type": "display_data"
    },
    {
     "data": {
      "text/markdown": [
       "<span style=\"color:#33cc99\">Solution:</span> \n",
       "```python\n",
       "def word_search(doc_list, keyword):\n",
       "    # list to hold the indices of matching documents\n",
       "    indices = [] \n",
       "    # Iterate through the indices (i) and elements (doc) of documents\n",
       "    for i, doc in enumerate(doc_list):\n",
       "        # Split the string doc into a list of words (according to whitespace)\n",
       "        tokens = doc.split()\n",
       "        # Make a transformed list where we 'normalize' each word to facilitate matching.\n",
       "        # Periods and commas are removed from the end of each word, and it's set to all lowercase.\n",
       "        normalized = [token.rstrip('.,').lower() for token in tokens]\n",
       "        # Is there a match? If so, update the list of matching indices.\n",
       "        if keyword.lower() in normalized:\n",
       "            indices.append(i)\n",
       "    return indices\n",
       "```"
      ],
      "text/plain": [
       "Solution: \n",
       "```python\n",
       "def word_search(doc_list, keyword):\n",
       "    # list to hold the indices of matching documents\n",
       "    indices = [] \n",
       "    # Iterate through the indices (i) and elements (doc) of documents\n",
       "    for i, doc in enumerate(doc_list):\n",
       "        # Split the string doc into a list of words (according to whitespace)\n",
       "        tokens = doc.split()\n",
       "        # Make a transformed list where we 'normalize' each word to facilitate matching.\n",
       "        # Periods and commas are removed from the end of each word, and it's set to all lowercase.\n",
       "        normalized = [token.rstrip('.,').lower() for token in tokens]\n",
       "        # Is there a match? If so, update the list of matching indices.\n",
       "        if keyword.lower() in normalized:\n",
       "            indices.append(i)\n",
       "    return indices\n",
       "```"
      ]
     },
     "metadata": {},
     "output_type": "display_data"
    }
   ],
   "source": [
    "q2.hint()\n",
    "q2.solution()"
   ]
  },
  {
   "cell_type": "markdown",
   "id": "18937c7a",
   "metadata": {
    "papermill": {
     "duration": 0.007616,
     "end_time": "2022-12-22T00:14:42.946397",
     "exception": false,
     "start_time": "2022-12-22T00:14:42.938781",
     "status": "completed"
    },
    "tags": []
   },
   "source": [
    "# 3.\n",
    "\n",
    "Now the researcher wants to supply multiple keywords to search for. Complete the function below to help her.\n",
    "\n",
    "(You're encouraged to use the `word_search` function you just wrote when implementing this function. Reusing code in this way makes your programs more robust and readable - and it saves typing!)"
   ]
  },
  {
   "cell_type": "code",
   "execution_count": 11,
   "id": "73b7d225",
   "metadata": {
    "execution": {
     "iopub.execute_input": "2022-12-22T00:14:42.964667Z",
     "iopub.status.busy": "2022-12-22T00:14:42.963973Z",
     "iopub.status.idle": "2022-12-22T00:14:42.975280Z",
     "shell.execute_reply": "2022-12-22T00:14:42.974382Z"
    },
    "papermill": {
     "duration": 0.023097,
     "end_time": "2022-12-22T00:14:42.977422",
     "exception": false,
     "start_time": "2022-12-22T00:14:42.954325",
     "status": "completed"
    },
    "tags": []
   },
   "outputs": [
    {
     "data": {
      "application/javascript": [
       "parent.postMessage({\"jupyterEvent\": \"custom.exercise_interaction\", \"data\": {\"outcomeType\": 1, \"valueTowardsCompletion\": 0.3333333333333333, \"interactionType\": 1, \"questionType\": 2, \"questionId\": \"3_MultiWordSearch\", \"learnToolsVersion\": \"0.3.4\", \"failureMessage\": \"\", \"exceptionClass\": \"\", \"trace\": \"\"}}, \"*\")"
      ],
      "text/plain": [
       "<IPython.core.display.Javascript object>"
      ]
     },
     "metadata": {},
     "output_type": "display_data"
    },
    {
     "data": {
      "text/markdown": [
       "<span style=\"color:#33cc33\">Correct</span>"
      ],
      "text/plain": [
       "Correct"
      ]
     },
     "metadata": {},
     "output_type": "display_data"
    }
   ],
   "source": [
    "def multi_word_search(doc_list, keywords):\n",
    "    \"\"\"\n",
    "    Takes list of documents (each document is a string) and a list of keywords.  \n",
    "    Returns a dictionary where each key is a keyword, and the value is a list of indices\n",
    "    (from doc_list) of the documents containing that keyword\n",
    "\n",
    "    >>> doc_list = [\"The Learn Python Challenge Casino.\", \"They bought a car and a casino\", \"Casinoville\"]\n",
    "    >>> keywords = ['casino', 'they']\n",
    "    >>> multi_word_search(doc_list, keywords)\n",
    "    {'casino': [0, 1], 'they': [1]}\n",
    "    \"\"\"\n",
    "    pass\n",
    "    wordMap = {}\n",
    "    for key in keywords:\n",
    "        wordMap[key] = word_search(doc_list, key)\n",
    "    return wordMap\n",
    "\n",
    "# Check your answer\n",
    "q3.check()"
   ]
  },
  {
   "cell_type": "code",
   "execution_count": 12,
   "id": "3dd4b328",
   "metadata": {
    "execution": {
     "iopub.execute_input": "2022-12-22T00:14:42.996558Z",
     "iopub.status.busy": "2022-12-22T00:14:42.995800Z",
     "iopub.status.idle": "2022-12-22T00:14:43.001221Z",
     "shell.execute_reply": "2022-12-22T00:14:42.999750Z"
    },
    "papermill": {
     "duration": 0.018403,
     "end_time": "2022-12-22T00:14:43.004273",
     "exception": false,
     "start_time": "2022-12-22T00:14:42.985870",
     "status": "completed"
    },
    "tags": []
   },
   "outputs": [],
   "source": [
    "# q3.solution()"
   ]
  },
  {
   "cell_type": "markdown",
   "id": "3ba60c5e",
   "metadata": {
    "papermill": {
     "duration": 0.010549,
     "end_time": "2022-12-22T00:14:43.023946",
     "exception": false,
     "start_time": "2022-12-22T00:14:43.013397",
     "status": "completed"
    },
    "tags": []
   },
   "source": [
    "# Keep Going\n",
    "\n",
    "You've learned a lot. But even the best programmers rely heavily on \"libraries\" of code from other programmers. You'll learn about that in **[the last lesson](https://www.kaggle.com/colinmorris/working-with-external-libraries)**.\n"
   ]
  },
  {
   "cell_type": "markdown",
   "id": "3828a347",
   "metadata": {
    "papermill": {
     "duration": 0.008444,
     "end_time": "2022-12-22T00:14:43.042570",
     "exception": false,
     "start_time": "2022-12-22T00:14:43.034126",
     "status": "completed"
    },
    "tags": []
   },
   "source": [
    "---\n",
    "\n",
    "\n",
    "\n",
    "\n",
    "*Have questions or comments? Visit the [course discussion forum](https://www.kaggle.com/learn/python/discussion) to chat with other learners.*"
   ]
  }
 ],
 "metadata": {
  "kernelspec": {
   "display_name": "Python 3",
   "language": "python",
   "name": "python3"
  },
  "language_info": {
   "codemirror_mode": {
    "name": "ipython",
    "version": 3
   },
   "file_extension": ".py",
   "mimetype": "text/x-python",
   "name": "python",
   "nbconvert_exporter": "python",
   "pygments_lexer": "ipython3",
   "version": "3.7.12"
  },
  "papermill": {
   "default_parameters": {},
   "duration": 13.195992,
   "end_time": "2022-12-22T00:14:43.775780",
   "environment_variables": {},
   "exception": null,
   "input_path": "__notebook__.ipynb",
   "output_path": "__notebook__.ipynb",
   "parameters": {},
   "start_time": "2022-12-22T00:14:30.579788",
   "version": "2.3.4"
  }
 },
 "nbformat": 4,
 "nbformat_minor": 5
}
